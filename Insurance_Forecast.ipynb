{
  "cells": [
    {
      "cell_type": "markdown",
      "metadata": {
        "id": "view-in-github",
        "colab_type": "text"
      },
      "source": [
        "<a href=\"https://colab.research.google.com/github/devrimakkoy/Global_AI_Hub_Proje/blob/version2_ed/Insurance_Forecast.ipynb\" target=\"_parent\"><img src=\"https://colab.research.google.com/assets/colab-badge.svg\" alt=\"Open In Colab\"/></a>"
      ]
    },
    {
      "cell_type": "markdown",
      "metadata": {
        "id": "649lDRHqE4nJ"
      },
      "source": [
        "#### Insurance Forecast\n",
        "- We will try to predict the individual medical costs billed by health insurance"
      ]
    },
    {
      "cell_type": "code",
      "execution_count": 1,
      "metadata": {
        "id": "8VI391_SE4nO"
      },
      "outputs": [],
      "source": [
        "import pandas as pd\n",
        "import numpy as np\n",
        "import matplotlib.pyplot as plt\n",
        "import seaborn as sns\n",
        "import warnings\n",
        "warnings.filterwarnings('ignore')"
      ]
    },
    {
      "cell_type": "code",
      "execution_count": 2,
      "metadata": {
        "colab": {
          "base_uri": "https://localhost:8080/",
          "height": 206
        },
        "id": "EvD6XJSVE4nP",
        "outputId": "88a1da53-afcc-4216-8d9e-015b319711d8"
      },
      "outputs": [
        {
          "output_type": "execute_result",
          "data": {
            "text/plain": [
              "   age     sex     bmi  children smoker     region      charges\n",
              "0   19  female  27.900         0    yes  southwest  16884.92400\n",
              "1   18    male  33.770         1     no  southeast   1725.55230\n",
              "2   28    male  33.000         3     no  southeast   4449.46200\n",
              "3   33    male  22.705         0     no  northwest  21984.47061\n",
              "4   32    male  28.880         0     no  northwest   3866.85520"
            ],
            "text/html": [
              "\n",
              "  <div id=\"df-19c618f9-a5c5-48df-82c8-7cf92a29123c\">\n",
              "    <div class=\"colab-df-container\">\n",
              "      <div>\n",
              "<style scoped>\n",
              "    .dataframe tbody tr th:only-of-type {\n",
              "        vertical-align: middle;\n",
              "    }\n",
              "\n",
              "    .dataframe tbody tr th {\n",
              "        vertical-align: top;\n",
              "    }\n",
              "\n",
              "    .dataframe thead th {\n",
              "        text-align: right;\n",
              "    }\n",
              "</style>\n",
              "<table border=\"1\" class=\"dataframe\">\n",
              "  <thead>\n",
              "    <tr style=\"text-align: right;\">\n",
              "      <th></th>\n",
              "      <th>age</th>\n",
              "      <th>sex</th>\n",
              "      <th>bmi</th>\n",
              "      <th>children</th>\n",
              "      <th>smoker</th>\n",
              "      <th>region</th>\n",
              "      <th>charges</th>\n",
              "    </tr>\n",
              "  </thead>\n",
              "  <tbody>\n",
              "    <tr>\n",
              "      <th>0</th>\n",
              "      <td>19</td>\n",
              "      <td>female</td>\n",
              "      <td>27.900</td>\n",
              "      <td>0</td>\n",
              "      <td>yes</td>\n",
              "      <td>southwest</td>\n",
              "      <td>16884.92400</td>\n",
              "    </tr>\n",
              "    <tr>\n",
              "      <th>1</th>\n",
              "      <td>18</td>\n",
              "      <td>male</td>\n",
              "      <td>33.770</td>\n",
              "      <td>1</td>\n",
              "      <td>no</td>\n",
              "      <td>southeast</td>\n",
              "      <td>1725.55230</td>\n",
              "    </tr>\n",
              "    <tr>\n",
              "      <th>2</th>\n",
              "      <td>28</td>\n",
              "      <td>male</td>\n",
              "      <td>33.000</td>\n",
              "      <td>3</td>\n",
              "      <td>no</td>\n",
              "      <td>southeast</td>\n",
              "      <td>4449.46200</td>\n",
              "    </tr>\n",
              "    <tr>\n",
              "      <th>3</th>\n",
              "      <td>33</td>\n",
              "      <td>male</td>\n",
              "      <td>22.705</td>\n",
              "      <td>0</td>\n",
              "      <td>no</td>\n",
              "      <td>northwest</td>\n",
              "      <td>21984.47061</td>\n",
              "    </tr>\n",
              "    <tr>\n",
              "      <th>4</th>\n",
              "      <td>32</td>\n",
              "      <td>male</td>\n",
              "      <td>28.880</td>\n",
              "      <td>0</td>\n",
              "      <td>no</td>\n",
              "      <td>northwest</td>\n",
              "      <td>3866.85520</td>\n",
              "    </tr>\n",
              "  </tbody>\n",
              "</table>\n",
              "</div>\n",
              "      <button class=\"colab-df-convert\" onclick=\"convertToInteractive('df-19c618f9-a5c5-48df-82c8-7cf92a29123c')\"\n",
              "              title=\"Convert this dataframe to an interactive table.\"\n",
              "              style=\"display:none;\">\n",
              "        \n",
              "  <svg xmlns=\"http://www.w3.org/2000/svg\" height=\"24px\"viewBox=\"0 0 24 24\"\n",
              "       width=\"24px\">\n",
              "    <path d=\"M0 0h24v24H0V0z\" fill=\"none\"/>\n",
              "    <path d=\"M18.56 5.44l.94 2.06.94-2.06 2.06-.94-2.06-.94-.94-2.06-.94 2.06-2.06.94zm-11 1L8.5 8.5l.94-2.06 2.06-.94-2.06-.94L8.5 2.5l-.94 2.06-2.06.94zm10 10l.94 2.06.94-2.06 2.06-.94-2.06-.94-.94-2.06-.94 2.06-2.06.94z\"/><path d=\"M17.41 7.96l-1.37-1.37c-.4-.4-.92-.59-1.43-.59-.52 0-1.04.2-1.43.59L10.3 9.45l-7.72 7.72c-.78.78-.78 2.05 0 2.83L4 21.41c.39.39.9.59 1.41.59.51 0 1.02-.2 1.41-.59l7.78-7.78 2.81-2.81c.8-.78.8-2.07 0-2.86zM5.41 20L4 18.59l7.72-7.72 1.47 1.35L5.41 20z\"/>\n",
              "  </svg>\n",
              "      </button>\n",
              "      \n",
              "  <style>\n",
              "    .colab-df-container {\n",
              "      display:flex;\n",
              "      flex-wrap:wrap;\n",
              "      gap: 12px;\n",
              "    }\n",
              "\n",
              "    .colab-df-convert {\n",
              "      background-color: #E8F0FE;\n",
              "      border: none;\n",
              "      border-radius: 50%;\n",
              "      cursor: pointer;\n",
              "      display: none;\n",
              "      fill: #1967D2;\n",
              "      height: 32px;\n",
              "      padding: 0 0 0 0;\n",
              "      width: 32px;\n",
              "    }\n",
              "\n",
              "    .colab-df-convert:hover {\n",
              "      background-color: #E2EBFA;\n",
              "      box-shadow: 0px 1px 2px rgba(60, 64, 67, 0.3), 0px 1px 3px 1px rgba(60, 64, 67, 0.15);\n",
              "      fill: #174EA6;\n",
              "    }\n",
              "\n",
              "    [theme=dark] .colab-df-convert {\n",
              "      background-color: #3B4455;\n",
              "      fill: #D2E3FC;\n",
              "    }\n",
              "\n",
              "    [theme=dark] .colab-df-convert:hover {\n",
              "      background-color: #434B5C;\n",
              "      box-shadow: 0px 1px 3px 1px rgba(0, 0, 0, 0.15);\n",
              "      filter: drop-shadow(0px 1px 2px rgba(0, 0, 0, 0.3));\n",
              "      fill: #FFFFFF;\n",
              "    }\n",
              "  </style>\n",
              "\n",
              "      <script>\n",
              "        const buttonEl =\n",
              "          document.querySelector('#df-19c618f9-a5c5-48df-82c8-7cf92a29123c button.colab-df-convert');\n",
              "        buttonEl.style.display =\n",
              "          google.colab.kernel.accessAllowed ? 'block' : 'none';\n",
              "\n",
              "        async function convertToInteractive(key) {\n",
              "          const element = document.querySelector('#df-19c618f9-a5c5-48df-82c8-7cf92a29123c');\n",
              "          const dataTable =\n",
              "            await google.colab.kernel.invokeFunction('convertToInteractive',\n",
              "                                                     [key], {});\n",
              "          if (!dataTable) return;\n",
              "\n",
              "          const docLinkHtml = 'Like what you see? Visit the ' +\n",
              "            '<a target=\"_blank\" href=https://colab.research.google.com/notebooks/data_table.ipynb>data table notebook</a>'\n",
              "            + ' to learn more about interactive tables.';\n",
              "          element.innerHTML = '';\n",
              "          dataTable['output_type'] = 'display_data';\n",
              "          await google.colab.output.renderOutput(dataTable, element);\n",
              "          const docLink = document.createElement('div');\n",
              "          docLink.innerHTML = docLinkHtml;\n",
              "          element.appendChild(docLink);\n",
              "        }\n",
              "      </script>\n",
              "    </div>\n",
              "  </div>\n",
              "  "
            ]
          },
          "metadata": {},
          "execution_count": 2
        }
      ],
      "source": [
        "df = pd.read_csv(\"/content/insurance.csv\")\n",
        "df.head()"
      ]
    },
    {
      "cell_type": "markdown",
      "metadata": {
        "id": "MCT2LPWxE4nR"
      },
      "source": [
        "#### Part 1 - Exploratory Data Analysis (EDA)\n",
        "##### Content;\n",
        "- age: age of primary beneficiary\n",
        "\n",
        "- sex: insurance contractor gender, female, male\n",
        "\n",
        "- bmi: Body mass index, providing an understanding of body, weights that are relatively high or low relative to height,\n",
        "objective index of body weight (kg / m ^ 2) using the ratio of height to weight, ideally 18.5 to 24.9\n",
        "\n",
        "- children: Number of children covered by health insurance / Number of dependents\n",
        "\n",
        "- smoker: Smoking\n",
        "\n",
        "- region: the beneficiary's residential area in the US, northeast, southeast, southwest, northwest.\n",
        "\n",
        "- charges: Individual medical costs billed by health insurance\n"
      ]
    },
    {
      "cell_type": "code",
      "execution_count": 3,
      "metadata": {
        "colab": {
          "base_uri": "https://localhost:8080/",
          "height": 175
        },
        "id": "R9g3mMEfE4nR",
        "outputId": "60734ea9-0104-468f-974d-20853f6bf97d"
      },
      "outputs": [
        {
          "output_type": "execute_result",
          "data": {
            "text/plain": [
              "           count          mean           std        min         25%       50%  \\\n",
              "age       1338.0     39.207025     14.049960    18.0000    27.00000    39.000   \n",
              "bmi       1338.0     30.663397      6.098187    15.9600    26.29625    30.400   \n",
              "children  1338.0      1.094918      1.205493     0.0000     0.00000     1.000   \n",
              "charges   1338.0  13270.422265  12110.011237  1121.8739  4740.28715  9382.033   \n",
              "\n",
              "                   75%          max  \n",
              "age          51.000000     64.00000  \n",
              "bmi          34.693750     53.13000  \n",
              "children      2.000000      5.00000  \n",
              "charges   16639.912515  63770.42801  "
            ],
            "text/html": [
              "\n",
              "  <div id=\"df-6d4786fc-42a6-479d-a100-2f6e49f7f098\">\n",
              "    <div class=\"colab-df-container\">\n",
              "      <div>\n",
              "<style scoped>\n",
              "    .dataframe tbody tr th:only-of-type {\n",
              "        vertical-align: middle;\n",
              "    }\n",
              "\n",
              "    .dataframe tbody tr th {\n",
              "        vertical-align: top;\n",
              "    }\n",
              "\n",
              "    .dataframe thead th {\n",
              "        text-align: right;\n",
              "    }\n",
              "</style>\n",
              "<table border=\"1\" class=\"dataframe\">\n",
              "  <thead>\n",
              "    <tr style=\"text-align: right;\">\n",
              "      <th></th>\n",
              "      <th>count</th>\n",
              "      <th>mean</th>\n",
              "      <th>std</th>\n",
              "      <th>min</th>\n",
              "      <th>25%</th>\n",
              "      <th>50%</th>\n",
              "      <th>75%</th>\n",
              "      <th>max</th>\n",
              "    </tr>\n",
              "  </thead>\n",
              "  <tbody>\n",
              "    <tr>\n",
              "      <th>age</th>\n",
              "      <td>1338.0</td>\n",
              "      <td>39.207025</td>\n",
              "      <td>14.049960</td>\n",
              "      <td>18.0000</td>\n",
              "      <td>27.00000</td>\n",
              "      <td>39.000</td>\n",
              "      <td>51.000000</td>\n",
              "      <td>64.00000</td>\n",
              "    </tr>\n",
              "    <tr>\n",
              "      <th>bmi</th>\n",
              "      <td>1338.0</td>\n",
              "      <td>30.663397</td>\n",
              "      <td>6.098187</td>\n",
              "      <td>15.9600</td>\n",
              "      <td>26.29625</td>\n",
              "      <td>30.400</td>\n",
              "      <td>34.693750</td>\n",
              "      <td>53.13000</td>\n",
              "    </tr>\n",
              "    <tr>\n",
              "      <th>children</th>\n",
              "      <td>1338.0</td>\n",
              "      <td>1.094918</td>\n",
              "      <td>1.205493</td>\n",
              "      <td>0.0000</td>\n",
              "      <td>0.00000</td>\n",
              "      <td>1.000</td>\n",
              "      <td>2.000000</td>\n",
              "      <td>5.00000</td>\n",
              "    </tr>\n",
              "    <tr>\n",
              "      <th>charges</th>\n",
              "      <td>1338.0</td>\n",
              "      <td>13270.422265</td>\n",
              "      <td>12110.011237</td>\n",
              "      <td>1121.8739</td>\n",
              "      <td>4740.28715</td>\n",
              "      <td>9382.033</td>\n",
              "      <td>16639.912515</td>\n",
              "      <td>63770.42801</td>\n",
              "    </tr>\n",
              "  </tbody>\n",
              "</table>\n",
              "</div>\n",
              "      <button class=\"colab-df-convert\" onclick=\"convertToInteractive('df-6d4786fc-42a6-479d-a100-2f6e49f7f098')\"\n",
              "              title=\"Convert this dataframe to an interactive table.\"\n",
              "              style=\"display:none;\">\n",
              "        \n",
              "  <svg xmlns=\"http://www.w3.org/2000/svg\" height=\"24px\"viewBox=\"0 0 24 24\"\n",
              "       width=\"24px\">\n",
              "    <path d=\"M0 0h24v24H0V0z\" fill=\"none\"/>\n",
              "    <path d=\"M18.56 5.44l.94 2.06.94-2.06 2.06-.94-2.06-.94-.94-2.06-.94 2.06-2.06.94zm-11 1L8.5 8.5l.94-2.06 2.06-.94-2.06-.94L8.5 2.5l-.94 2.06-2.06.94zm10 10l.94 2.06.94-2.06 2.06-.94-2.06-.94-.94-2.06-.94 2.06-2.06.94z\"/><path d=\"M17.41 7.96l-1.37-1.37c-.4-.4-.92-.59-1.43-.59-.52 0-1.04.2-1.43.59L10.3 9.45l-7.72 7.72c-.78.78-.78 2.05 0 2.83L4 21.41c.39.39.9.59 1.41.59.51 0 1.02-.2 1.41-.59l7.78-7.78 2.81-2.81c.8-.78.8-2.07 0-2.86zM5.41 20L4 18.59l7.72-7.72 1.47 1.35L5.41 20z\"/>\n",
              "  </svg>\n",
              "      </button>\n",
              "      \n",
              "  <style>\n",
              "    .colab-df-container {\n",
              "      display:flex;\n",
              "      flex-wrap:wrap;\n",
              "      gap: 12px;\n",
              "    }\n",
              "\n",
              "    .colab-df-convert {\n",
              "      background-color: #E8F0FE;\n",
              "      border: none;\n",
              "      border-radius: 50%;\n",
              "      cursor: pointer;\n",
              "      display: none;\n",
              "      fill: #1967D2;\n",
              "      height: 32px;\n",
              "      padding: 0 0 0 0;\n",
              "      width: 32px;\n",
              "    }\n",
              "\n",
              "    .colab-df-convert:hover {\n",
              "      background-color: #E2EBFA;\n",
              "      box-shadow: 0px 1px 2px rgba(60, 64, 67, 0.3), 0px 1px 3px 1px rgba(60, 64, 67, 0.15);\n",
              "      fill: #174EA6;\n",
              "    }\n",
              "\n",
              "    [theme=dark] .colab-df-convert {\n",
              "      background-color: #3B4455;\n",
              "      fill: #D2E3FC;\n",
              "    }\n",
              "\n",
              "    [theme=dark] .colab-df-convert:hover {\n",
              "      background-color: #434B5C;\n",
              "      box-shadow: 0px 1px 3px 1px rgba(0, 0, 0, 0.15);\n",
              "      filter: drop-shadow(0px 1px 2px rgba(0, 0, 0, 0.3));\n",
              "      fill: #FFFFFF;\n",
              "    }\n",
              "  </style>\n",
              "\n",
              "      <script>\n",
              "        const buttonEl =\n",
              "          document.querySelector('#df-6d4786fc-42a6-479d-a100-2f6e49f7f098 button.colab-df-convert');\n",
              "        buttonEl.style.display =\n",
              "          google.colab.kernel.accessAllowed ? 'block' : 'none';\n",
              "\n",
              "        async function convertToInteractive(key) {\n",
              "          const element = document.querySelector('#df-6d4786fc-42a6-479d-a100-2f6e49f7f098');\n",
              "          const dataTable =\n",
              "            await google.colab.kernel.invokeFunction('convertToInteractive',\n",
              "                                                     [key], {});\n",
              "          if (!dataTable) return;\n",
              "\n",
              "          const docLinkHtml = 'Like what you see? Visit the ' +\n",
              "            '<a target=\"_blank\" href=https://colab.research.google.com/notebooks/data_table.ipynb>data table notebook</a>'\n",
              "            + ' to learn more about interactive tables.';\n",
              "          element.innerHTML = '';\n",
              "          dataTable['output_type'] = 'display_data';\n",
              "          await google.colab.output.renderOutput(dataTable, element);\n",
              "          const docLink = document.createElement('div');\n",
              "          docLink.innerHTML = docLinkHtml;\n",
              "          element.appendChild(docLink);\n",
              "        }\n",
              "      </script>\n",
              "    </div>\n",
              "  </div>\n",
              "  "
            ]
          },
          "metadata": {},
          "execution_count": 3
        }
      ],
      "source": [
        "# Let's see the descriptive statistics summary of our dataframe.\n",
        "df.describe().T"
      ]
    },
    {
      "cell_type": "markdown",
      "metadata": {
        "id": "7tLtpDsVE4nS"
      },
      "source": [
        "We can see that the variables are clustered around the mean except for the \"charges\" variable. It is more spread out"
      ]
    },
    {
      "cell_type": "code",
      "execution_count": 4,
      "metadata": {
        "colab": {
          "base_uri": "https://localhost:8080/"
        },
        "id": "gpr1JkqeE4nS",
        "outputId": "bdbc57d0-465d-4709-9bfe-08cee87ab9bb"
      },
      "outputs": [
        {
          "output_type": "stream",
          "name": "stdout",
          "text": [
            "<class 'pandas.core.frame.DataFrame'>\n",
            "RangeIndex: 1338 entries, 0 to 1337\n",
            "Data columns (total 7 columns):\n",
            " #   Column    Non-Null Count  Dtype  \n",
            "---  ------    --------------  -----  \n",
            " 0   age       1338 non-null   int64  \n",
            " 1   sex       1338 non-null   object \n",
            " 2   bmi       1338 non-null   float64\n",
            " 3   children  1338 non-null   int64  \n",
            " 4   smoker    1338 non-null   object \n",
            " 5   region    1338 non-null   object \n",
            " 6   charges   1338 non-null   float64\n",
            "dtypes: float64(2), int64(2), object(3)\n",
            "memory usage: 73.3+ KB\n"
          ]
        }
      ],
      "source": [
        "# See if there is any \"null\" values in any of the variables and let's look on their data types.\n",
        "df.info()"
      ]
    },
    {
      "cell_type": "code",
      "execution_count": 5,
      "metadata": {
        "colab": {
          "base_uri": "https://localhost:8080/"
        },
        "id": "O7tJt1AfE4nT",
        "outputId": "246590a7-6a19-4988-d58d-eb4d1016334b"
      },
      "outputs": [
        {
          "output_type": "execute_result",
          "data": {
            "text/plain": [
              "(1338, 7)"
            ]
          },
          "metadata": {},
          "execution_count": 5
        }
      ],
      "source": [
        "df.shape"
      ]
    },
    {
      "cell_type": "markdown",
      "metadata": {
        "id": "EIXV1FBIE4nU"
      },
      "source": [
        "We have 7 variables and 1338 entries in our dataframe."
      ]
    },
    {
      "cell_type": "markdown",
      "metadata": {
        "id": "i73JG5bJE4nV"
      },
      "source": [
        "### BMI"
      ]
    },
    {
      "cell_type": "code",
      "execution_count": 6,
      "metadata": {
        "colab": {
          "base_uri": "https://localhost:8080/"
        },
        "id": "fhW3FT4CE4nV",
        "outputId": "e2a6324f-7fc7-4305-cf75-6297abdefbe6"
      },
      "outputs": [
        {
          "output_type": "execute_result",
          "data": {
            "text/plain": [
              "count    1338.000000\n",
              "mean       30.663397\n",
              "std         6.098187\n",
              "min        15.960000\n",
              "25%        26.296250\n",
              "50%        30.400000\n",
              "75%        34.693750\n",
              "max        53.130000\n",
              "Name: bmi, dtype: float64"
            ]
          },
          "metadata": {},
          "execution_count": 6
        }
      ],
      "source": [
        "# Let's look at the distribution of the bmi on the data.\n",
        "df[\"bmi\"].describe().T"
      ]
    },
    {
      "cell_type": "code",
      "execution_count": 7,
      "metadata": {
        "colab": {
          "base_uri": "https://localhost:8080/",
          "height": 385
        },
        "id": "Ua2VfX7SE4nW",
        "outputId": "67e139b4-b924-4419-a791-7dd2b273c30a"
      },
      "outputs": [
        {
          "output_type": "display_data",
          "data": {
            "text/plain": [
              "<Figure size 360x360 with 1 Axes>"
            ],
            "image/png": "[encoded data removed]"
          },
          "metadata": {
            "needs_background": "light"
          }
        }
      ],
      "source": [
        "# Visualize the distribution of \"bmi\"\n",
        "sns.displot(data=df['bmi'], kde=True, stat='density', linewidth=1)\n",
        "plt.title('BMI Analysis')\n",
        "plt.show()"
      ]
    },
    {
      "cell_type": "markdown",
      "metadata": {
        "id": "uWecteF2E4nW"
      },
      "source": [
        "As we can see \"bmi\" variable has a normal distribution. It showing that data near the mean are more frequent than the data far from the mean."
      ]
    },
    {
      "cell_type": "markdown",
      "metadata": {
        "id": "qD2BK_DnE4nW"
      },
      "source": [
        "### CHARGES BY SMOKER"
      ]
    },
    {
      "cell_type": "code",
      "execution_count": 8,
      "metadata": {
        "colab": {
          "base_uri": "https://localhost:8080/",
          "height": 404
        },
        "id": "Fk3f-pKWE4nX",
        "outputId": "faec21e8-52f0-47da-c979-8ca908367f44"
      },
      "outputs": [
        {
          "output_type": "display_data",
          "data": {
            "text/plain": [
              "<Figure size 432x432 with 1 Axes>"
            ],
            "image/png": "[encoded data removed]"
          },
          "metadata": {
            "needs_background": "light"
          }
        }
      ],
      "source": [
        "# Smoker and charges\n",
        "plt.figure(figsize=(6,6))\n",
        "sns.boxplot(data=df, x='smoker', y='charges', palette=\"autumn\")\n",
        "plt.title('Smoker charges')\n",
        "plt.show()"
      ]
    },
    {
      "cell_type": "markdown",
      "metadata": {
        "id": "DfmKdxuZE4nX"
      },
      "source": [
        "If a person is a smoker it is highly possible that the insurance charges are higher."
      ]
    },
    {
      "cell_type": "markdown",
      "metadata": {
        "id": "NWktPCWSE4nX"
      },
      "source": [
        "### SMOKER BY REGION"
      ]
    },
    {
      "cell_type": "code",
      "execution_count": 9,
      "metadata": {
        "colab": {
          "base_uri": "https://localhost:8080/",
          "height": 0
        },
        "id": "AiJXR48_E4nY",
        "outputId": "8ad8a4cb-4c32-4fc9-d3db-04971d7ac2d0"
      },
      "outputs": [
        {
          "output_type": "execute_result",
          "data": {
            "text/plain": [
              "<seaborn.axisgrid.FacetGrid at 0x7f8d4ac8b850>"
            ]
          },
          "metadata": {},
          "execution_count": 9
        },
        {
          "output_type": "display_data",
          "data": {
            "text/plain": [
              "<Figure size 447.25x360 with 1 Axes>"
            ],
            "image/png": "[encoded data removed]"
          },
          "metadata": {
            "needs_background": "light"
          }
        }
      ],
      "source": [
        "# Smoking rates by region\n",
        "sns.catplot(x=\"smoker\", kind=\"count\",hue = 'region', palette=\"rainbow\", data=df)"
      ]
    },
    {
      "cell_type": "markdown",
      "metadata": {
        "id": "pOGybI_TE4nY"
      },
      "source": [
        "We can say that the number of people who do not smoke is higher in all 4 regions. But when we look at the smokers we see that the people on southeast, smokes more."
      ]
    },
    {
      "cell_type": "markdown",
      "metadata": {
        "id": "sx4zuOcuE4nY"
      },
      "source": [
        "### BMI BY SEX"
      ]
    },
    {
      "cell_type": "code",
      "execution_count": 10,
      "metadata": {
        "colab": {
          "base_uri": "https://localhost:8080/"
        },
        "id": "tRz_uzA5E4nZ",
        "outputId": "3d53ba87-e95d-427c-bc17-948fc14e58d4"
      },
      "outputs": [
        {
          "output_type": "execute_result",
          "data": {
            "text/plain": [
              "male      676\n",
              "female    662\n",
              "Name: sex, dtype: int64"
            ]
          },
          "metadata": {},
          "execution_count": 10
        }
      ],
      "source": [
        "# First, let's look at the gender distribution on the data.\n",
        "gender = df[\"sex\"].value_counts()\n",
        "gender"
      ]
    },
    {
      "cell_type": "code",
      "execution_count": 11,
      "metadata": {
        "colab": {
          "base_uri": "https://localhost:8080/",
          "height": 0
        },
        "id": "7eFhEACxE4nZ",
        "outputId": "2465db58-0820-4843-913a-823e7fba6ff6"
      },
      "outputs": [
        {
          "output_type": "execute_result",
          "data": {
            "text/plain": [
              "Text(0, 0.5, 'Density')"
            ]
          },
          "metadata": {},
          "execution_count": 11
        },
        {
          "output_type": "display_data",
          "data": {
            "text/plain": [
              "<Figure size 432x288 with 1 Axes>"
            ],
            "image/png": "[encoded data removed]"
          },
          "metadata": {
            "needs_background": "light"
          }
        }
      ],
      "source": [
        "# BMI's by gender\n",
        "sns.histplot(data=df, x=\"bmi\", hue=\"sex\", multiple=\"dodge\", shrink=.8, kde=True)\n",
        "plt.title('BMI by Gender', fontsize=14)\n",
        "plt.xlabel('BMI', fontsize=14)\n",
        "plt.ylabel('Density', fontsize=14)"
      ]
    },
    {
      "cell_type": "markdown",
      "metadata": {
        "id": "nx1nPooAE4nZ"
      },
      "source": [
        "We can see the gender and bmi distribution by looking at this chart. We can say that generally, the men have a higher body mass index than women."
      ]
    },
    {
      "cell_type": "markdown",
      "metadata": {
        "id": "rKYiicJKE4na"
      },
      "source": [
        "### CHILDREN"
      ]
    },
    {
      "cell_type": "code",
      "execution_count": 12,
      "metadata": {
        "colab": {
          "base_uri": "https://localhost:8080/"
        },
        "id": "ZsuPp-6GE4na",
        "outputId": "f982f610-a08a-4204-a97b-55bfe4c678e2"
      },
      "outputs": [
        {
          "output_type": "execute_result",
          "data": {
            "text/plain": [
              "0    574\n",
              "1    324\n",
              "2    240\n",
              "3    157\n",
              "4     25\n",
              "5     18\n",
              "Name: children, dtype: int64"
            ]
          },
          "metadata": {},
          "execution_count": 12
        }
      ],
      "source": [
        "# First, let's look at the children counts.\n",
        "children = df[\"children\"].value_counts()\n",
        "children"
      ]
    },
    {
      "cell_type": "code",
      "execution_count": 13,
      "metadata": {
        "colab": {
          "base_uri": "https://localhost:8080/",
          "height": 0
        },
        "id": "6jRxSRGGE4na",
        "outputId": "1c5975eb-8a36-4a8a-e211-18c3d554d4c1"
      },
      "outputs": [
        {
          "output_type": "display_data",
          "data": {
            "text/plain": [
              "<Figure size 432x288 with 1 Axes>"
            ],
            "image/png": "[encoded data removed]"
          },
          "metadata": {
            "needs_background": "light"
          }
        }
      ],
      "source": [
        "# Now let's look at the Children by region\n",
        "ax = sns.countplot(x=\"children\",hue=\"region\", data=df, palette=\"inferno\")"
      ]
    },
    {
      "cell_type": "markdown",
      "metadata": {
        "id": "jLbRVi6KE4nb"
      },
      "source": [
        "We can see the number of children by region. "
      ]
    },
    {
      "cell_type": "markdown",
      "metadata": {
        "id": "6dIGRMYqE4nb"
      },
      "source": [
        "### BMI BY AGE"
      ]
    },
    {
      "cell_type": "code",
      "execution_count": 14,
      "metadata": {
        "colab": {
          "base_uri": "https://localhost:8080/",
          "height": 0
        },
        "id": "KBYXngT4E4nb",
        "outputId": "19145080-af27-44a1-a391-72a1ae083b64"
      },
      "outputs": [
        {
          "output_type": "execute_result",
          "data": {
            "text/plain": [
              "Text(0, 0.5, 'BMI')"
            ]
          },
          "metadata": {},
          "execution_count": 14
        },
        {
          "output_type": "display_data",
          "data": {
            "text/plain": [
              "<Figure size 432x288 with 1 Axes>"
            ],
            "image/png": "[encoded data removed]"
          },
          "metadata": {
            "needs_background": "light"
          }
        }
      ],
      "source": [
        "# Age and bmi\n",
        "sns.regplot(x=df[\"age\"], y=df[\"bmi\"])\n",
        "plt.title('BMI and Age', fontsize=14)\n",
        "plt.xlabel('Age', fontsize=14)\n",
        "plt.ylabel('BMI', fontsize=14)\n"
      ]
    },
    {
      "cell_type": "markdown",
      "metadata": {
        "id": "DYJMmqzDE4nb"
      },
      "source": [
        "### RELATIONSHIP BETWEEN \"BMI\" and \"CHILDREN\""
      ]
    },
    {
      "cell_type": "code",
      "execution_count": 15,
      "metadata": {
        "colab": {
          "base_uri": "https://localhost:8080/",
          "height": 0
        },
        "id": "PfmOJSC3E4nb",
        "outputId": "c99e6c4c-bd9a-4131-f49d-dcaab7fcbdd9"
      },
      "outputs": [
        {
          "output_type": "execute_result",
          "data": {
            "text/plain": [
              "Text(0, 0.5, 'Density')"
            ]
          },
          "metadata": {},
          "execution_count": 15
        },
        {
          "output_type": "display_data",
          "data": {
            "text/plain": [
              "<Figure size 432x288 with 1 Axes>"
            ],
            "image/png": "[encoded data removed]"
          },
          "metadata": {
            "needs_background": "light"
          }
        }
      ],
      "source": [
        "sns.histplot(data=df, x=\"bmi\", hue=\"children\", multiple=\"dodge\", shrink=.8, kde=True, palette=\"copper\")\n",
        "plt.title('BMI and Children', fontsize=14)\n",
        "plt.xlabel('BMI', fontsize=14)\n",
        "plt.ylabel('Density', fontsize=14)"
      ]
    },
    {
      "cell_type": "markdown",
      "metadata": {
        "id": "K2IAaleKE4nc"
      },
      "source": [
        "### OUTLIERS ON THE \"BMI\" VARIABLE"
      ]
    },
    {
      "cell_type": "markdown",
      "metadata": {
        "id": "toWbRnWsE4nc"
      },
      "source": [
        "- in this quantile-based technique, we will do the flooring(e.g 25th percentile) for the lower values and capping(e.g for the 75th percentile) for the higher values. These percentile values will be used for the quantile-based flooring and capping."
      ]
    },
    {
      "cell_type": "code",
      "execution_count": 16,
      "metadata": {
        "colab": {
          "base_uri": "https://localhost:8080/"
        },
        "id": "ELMyHmjJE4nc",
        "outputId": "e16d781a-b40b-4c2d-9967-e140fe0b7bd9"
      },
      "outputs": [
        {
          "output_type": "execute_result",
          "data": {
            "text/plain": [
              "(9, 7)"
            ]
          },
          "metadata": {},
          "execution_count": 16
        }
      ],
      "source": [
        "#Flooring\n",
        "q1 = df['bmi'].quantile(0.25)\n",
        "q3 = df['bmi'].quantile(0.75)\n",
        "iqr = q3 - q1\n",
        "whisker_width = 1.5\n",
        "bmi_outliers = df[(df['bmi'] < q1 - whisker_width*iqr) | (df['bmi'] > q3 + whisker_width*iqr)]\n",
        "bmi_outliers.shape"
      ]
    },
    {
      "cell_type": "code",
      "execution_count": 17,
      "metadata": {
        "colab": {
          "base_uri": "https://localhost:8080/",
          "height": 0
        },
        "id": "vREwHV0KE4nc",
        "outputId": "c9f3db06-f995-4978-ff35-61a8ec841c95"
      },
      "outputs": [
        {
          "output_type": "execute_result",
          "data": {
            "text/plain": [
              "     age     sex    bmi  children smoker     region      charges\n",
              "116   58    male  49.06         0     no  southeast  11381.32540\n",
              "286   46  female  48.07         2     no  northeast   9432.92530\n",
              "401   47    male  47.52         1     no  southeast   8083.91980\n",
              "543   54  female  47.41         0    yes  southeast  63770.42801\n",
              "847   23    male  50.38         1     no  southeast   2438.05520"
            ],
            "text/html": [
              "\n",
              "  <div id=\"df-b290f783-6186-4479-aafe-2471e0bda0e2\">\n",
              "    <div class=\"colab-df-container\">\n",
              "      <div>\n",
              "<style scoped>\n",
              "    .dataframe tbody tr th:only-of-type {\n",
              "        vertical-align: middle;\n",
              "    }\n",
              "\n",
              "    .dataframe tbody tr th {\n",
              "        vertical-align: top;\n",
              "    }\n",
              "\n",
              "    .dataframe thead th {\n",
              "        text-align: right;\n",
              "    }\n",
              "</style>\n",
              "<table border=\"1\" class=\"dataframe\">\n",
              "  <thead>\n",
              "    <tr style=\"text-align: right;\">\n",
              "      <th></th>\n",
              "      <th>age</th>\n",
              "      <th>sex</th>\n",
              "      <th>bmi</th>\n",
              "      <th>children</th>\n",
              "      <th>smoker</th>\n",
              "      <th>region</th>\n",
              "      <th>charges</th>\n",
              "    </tr>\n",
              "  </thead>\n",
              "  <tbody>\n",
              "    <tr>\n",
              "      <th>116</th>\n",
              "      <td>58</td>\n",
              "      <td>male</td>\n",
              "      <td>49.06</td>\n",
              "      <td>0</td>\n",
              "      <td>no</td>\n",
              "      <td>southeast</td>\n",
              "      <td>11381.32540</td>\n",
              "    </tr>\n",
              "    <tr>\n",
              "      <th>286</th>\n",
              "      <td>46</td>\n",
              "      <td>female</td>\n",
              "      <td>48.07</td>\n",
              "      <td>2</td>\n",
              "      <td>no</td>\n",
              "      <td>northeast</td>\n",
              "      <td>9432.92530</td>\n",
              "    </tr>\n",
              "    <tr>\n",
              "      <th>401</th>\n",
              "      <td>47</td>\n",
              "      <td>male</td>\n",
              "      <td>47.52</td>\n",
              "      <td>1</td>\n",
              "      <td>no</td>\n",
              "      <td>southeast</td>\n",
              "      <td>8083.91980</td>\n",
              "    </tr>\n",
              "    <tr>\n",
              "      <th>543</th>\n",
              "      <td>54</td>\n",
              "      <td>female</td>\n",
              "      <td>47.41</td>\n",
              "      <td>0</td>\n",
              "      <td>yes</td>\n",
              "      <td>southeast</td>\n",
              "      <td>63770.42801</td>\n",
              "    </tr>\n",
              "    <tr>\n",
              "      <th>847</th>\n",
              "      <td>23</td>\n",
              "      <td>male</td>\n",
              "      <td>50.38</td>\n",
              "      <td>1</td>\n",
              "      <td>no</td>\n",
              "      <td>southeast</td>\n",
              "      <td>2438.05520</td>\n",
              "    </tr>\n",
              "  </tbody>\n",
              "</table>\n",
              "</div>\n",
              "      <button class=\"colab-df-convert\" onclick=\"convertToInteractive('df-b290f783-6186-4479-aafe-2471e0bda0e2')\"\n",
              "              title=\"Convert this dataframe to an interactive table.\"\n",
              "              style=\"display:none;\">\n",
              "        \n",
              "  <svg xmlns=\"http://www.w3.org/2000/svg\" height=\"24px\"viewBox=\"0 0 24 24\"\n",
              "       width=\"24px\">\n",
              "    <path d=\"M0 0h24v24H0V0z\" fill=\"none\"/>\n",
              "    <path d=\"M18.56 5.44l.94 2.06.94-2.06 2.06-.94-2.06-.94-.94-2.06-.94 2.06-2.06.94zm-11 1L8.5 8.5l.94-2.06 2.06-.94-2.06-.94L8.5 2.5l-.94 2.06-2.06.94zm10 10l.94 2.06.94-2.06 2.06-.94-2.06-.94-.94-2.06-.94 2.06-2.06.94z\"/><path d=\"M17.41 7.96l-1.37-1.37c-.4-.4-.92-.59-1.43-.59-.52 0-1.04.2-1.43.59L10.3 9.45l-7.72 7.72c-.78.78-.78 2.05 0 2.83L4 21.41c.39.39.9.59 1.41.59.51 0 1.02-.2 1.41-.59l7.78-7.78 2.81-2.81c.8-.78.8-2.07 0-2.86zM5.41 20L4 18.59l7.72-7.72 1.47 1.35L5.41 20z\"/>\n",
              "  </svg>\n",
              "      </button>\n",
              "      \n",
              "  <style>\n",
              "    .colab-df-container {\n",
              "      display:flex;\n",
              "      flex-wrap:wrap;\n",
              "      gap: 12px;\n",
              "    }\n",
              "\n",
              "    .colab-df-convert {\n",
              "      background-color: #E8F0FE;\n",
              "      border: none;\n",
              "      border-radius: 50%;\n",
              "      cursor: pointer;\n",
              "      display: none;\n",
              "      fill: #1967D2;\n",
              "      height: 32px;\n",
              "      padding: 0 0 0 0;\n",
              "      width: 32px;\n",
              "    }\n",
              "\n",
              "    .colab-df-convert:hover {\n",
              "      background-color: #E2EBFA;\n",
              "      box-shadow: 0px 1px 2px rgba(60, 64, 67, 0.3), 0px 1px 3px 1px rgba(60, 64, 67, 0.15);\n",
              "      fill: #174EA6;\n",
              "    }\n",
              "\n",
              "    [theme=dark] .colab-df-convert {\n",
              "      background-color: #3B4455;\n",
              "      fill: #D2E3FC;\n",
              "    }\n",
              "\n",
              "    [theme=dark] .colab-df-convert:hover {\n",
              "      background-color: #434B5C;\n",
              "      box-shadow: 0px 1px 3px 1px rgba(0, 0, 0, 0.15);\n",
              "      filter: drop-shadow(0px 1px 2px rgba(0, 0, 0, 0.3));\n",
              "      fill: #FFFFFF;\n",
              "    }\n",
              "  </style>\n",
              "\n",
              "      <script>\n",
              "        const buttonEl =\n",
              "          document.querySelector('#df-b290f783-6186-4479-aafe-2471e0bda0e2 button.colab-df-convert');\n",
              "        buttonEl.style.display =\n",
              "          google.colab.kernel.accessAllowed ? 'block' : 'none';\n",
              "\n",
              "        async function convertToInteractive(key) {\n",
              "          const element = document.querySelector('#df-b290f783-6186-4479-aafe-2471e0bda0e2');\n",
              "          const dataTable =\n",
              "            await google.colab.kernel.invokeFunction('convertToInteractive',\n",
              "                                                     [key], {});\n",
              "          if (!dataTable) return;\n",
              "\n",
              "          const docLinkHtml = 'Like what you see? Visit the ' +\n",
              "            '<a target=\"_blank\" href=https://colab.research.google.com/notebooks/data_table.ipynb>data table notebook</a>'\n",
              "            + ' to learn more about interactive tables.';\n",
              "          element.innerHTML = '';\n",
              "          dataTable['output_type'] = 'display_data';\n",
              "          await google.colab.output.renderOutput(dataTable, element);\n",
              "          const docLink = document.createElement('div');\n",
              "          docLink.innerHTML = docLinkHtml;\n",
              "          element.appendChild(docLink);\n",
              "        }\n",
              "      </script>\n",
              "    </div>\n",
              "  </div>\n",
              "  "
            ]
          },
          "metadata": {},
          "execution_count": 17
        }
      ],
      "source": [
        "bmi_outliers.head()"
      ]
    },
    {
      "cell_type": "code",
      "execution_count": 18,
      "metadata": {
        "colab": {
          "base_uri": "https://localhost:8080/",
          "height": 0
        },
        "id": "ILyjl1trE4nd",
        "outputId": "920b0d86-7d50-4fbc-d487-6cbe4eec1eae"
      },
      "outputs": [
        {
          "output_type": "display_data",
          "data": {
            "text/plain": [
              "<Figure size 432x288 with 1 Axes>"
            ],
            "image/png": "[encoded data removed]"
          },
          "metadata": {
            "needs_background": "light"
          }
        }
      ],
      "source": [
        "# Let's see the outliers\n",
        "plt.figure(figsize=(6,4))\n",
        "sns.boxplot(df[\"bmi\"], palette=\"rainbow\")\n",
        "plt.title('BMI Outliers')\n",
        "plt.show()"
      ]
    },
    {
      "cell_type": "markdown",
      "metadata": {
        "id": "MG_GJ3CZE4nd"
      },
      "source": [
        "There is some outliers on the bmi variable."
      ]
    },
    {
      "cell_type": "code",
      "execution_count": 19,
      "metadata": {
        "id": "WnJN_tDqE4nd"
      },
      "outputs": [],
      "source": [
        "# The code below drops the outliers by removing all the values that are below the 25th percentile and above the 75th percentile of the ‘bmi’ variable.\n",
        "lower_whisker = q1 -(whisker_width*iqr)\n",
        "upper_whisker = q3 + (whisker_width*iqr)\n",
        "df['bmi']=np.where(df['bmi']>upper_whisker,upper_whisker,np.where(df['bmi']<lower_whisker,lower_whisker,df['bmi']))"
      ]
    },
    {
      "cell_type": "code",
      "execution_count": 20,
      "metadata": {
        "colab": {
          "base_uri": "https://localhost:8080/",
          "height": 0
        },
        "id": "zu6gsIdGE4nd",
        "outputId": "9651c966-98ee-4ca1-beec-b3418c52e1ba"
      },
      "outputs": [
        {
          "output_type": "display_data",
          "data": {
            "text/plain": [
              "<Figure size 432x288 with 1 Axes>"
            ],
            "image/png": "[encoded data removed]"
          },
          "metadata": {
            "needs_background": "light"
          }
        }
      ],
      "source": [
        "# Without the outliers\n",
        "plt.figure(figsize=(6,4))\n",
        "sns.boxplot(df[\"bmi\"], palette=\"rainbow\")\n",
        "plt.title('BMI Outliers')\n",
        "plt.show()"
      ]
    },
    {
      "cell_type": "markdown",
      "metadata": {
        "id": "sy4WQr0NE4ne"
      },
      "source": [
        "### OUTLIERS ON THE \"CHARGES\" VARIABLE"
      ]
    },
    {
      "cell_type": "code",
      "execution_count": 21,
      "metadata": {
        "colab": {
          "base_uri": "https://localhost:8080/"
        },
        "id": "dd9TWqbHE4ne",
        "outputId": "e823deca-552a-4499-9320-110067e7e491"
      },
      "outputs": [
        {
          "output_type": "execute_result",
          "data": {
            "text/plain": [
              "(139, 7)"
            ]
          },
          "metadata": {},
          "execution_count": 21
        }
      ],
      "source": [
        "# Flooring\n",
        "Q1 = df['charges'].quantile(0.25)\n",
        "Q3 = df['charges'].quantile(0.75)\n",
        "IQR = Q3 - Q1\n",
        "w_width = 1.5\n",
        "charges_outliers = df[(df['charges'] < Q1 - whisker_width*IQR) | (df['charges'] > Q3 + whisker_width*IQR)]\n",
        "charges_outliers.shape"
      ]
    },
    {
      "cell_type": "code",
      "execution_count": 22,
      "metadata": {
        "colab": {
          "base_uri": "https://localhost:8080/",
          "height": 0
        },
        "id": "slxf6hwqE4ne",
        "outputId": "c8666fca-675e-4563-c6b0-da91990fc062"
      },
      "outputs": [
        {
          "output_type": "execute_result",
          "data": {
            "text/plain": [
              "    age     sex    bmi  children smoker     region     charges\n",
              "14   27    male  42.13         0    yes  southeast  39611.7577\n",
              "19   30    male  35.30         0    yes  southwest  36837.4670\n",
              "23   34  female  31.92         1    yes  northeast  37701.8768\n",
              "29   31    male  36.30         2    yes  southwest  38711.0000\n",
              "30   22    male  35.60         0    yes  southwest  35585.5760"
            ],
            "text/html": [
              "\n",
              "  <div id=\"df-3573d3b8-5198-4356-9912-5cc474d51a40\">\n",
              "    <div class=\"colab-df-container\">\n",
              "      <div>\n",
              "<style scoped>\n",
              "    .dataframe tbody tr th:only-of-type {\n",
              "        vertical-align: middle;\n",
              "    }\n",
              "\n",
              "    .dataframe tbody tr th {\n",
              "        vertical-align: top;\n",
              "    }\n",
              "\n",
              "    .dataframe thead th {\n",
              "        text-align: right;\n",
              "    }\n",
              "</style>\n",
              "<table border=\"1\" class=\"dataframe\">\n",
              "  <thead>\n",
              "    <tr style=\"text-align: right;\">\n",
              "      <th></th>\n",
              "      <th>age</th>\n",
              "      <th>sex</th>\n",
              "      <th>bmi</th>\n",
              "      <th>children</th>\n",
              "      <th>smoker</th>\n",
              "      <th>region</th>\n",
              "      <th>charges</th>\n",
              "    </tr>\n",
              "  </thead>\n",
              "  <tbody>\n",
              "    <tr>\n",
              "      <th>14</th>\n",
              "      <td>27</td>\n",
              "      <td>male</td>\n",
              "      <td>42.13</td>\n",
              "      <td>0</td>\n",
              "      <td>yes</td>\n",
              "      <td>southeast</td>\n",
              "      <td>39611.7577</td>\n",
              "    </tr>\n",
              "    <tr>\n",
              "      <th>19</th>\n",
              "      <td>30</td>\n",
              "      <td>male</td>\n",
              "      <td>35.30</td>\n",
              "      <td>0</td>\n",
              "      <td>yes</td>\n",
              "      <td>southwest</td>\n",
              "      <td>36837.4670</td>\n",
              "    </tr>\n",
              "    <tr>\n",
              "      <th>23</th>\n",
              "      <td>34</td>\n",
              "      <td>female</td>\n",
              "      <td>31.92</td>\n",
              "      <td>1</td>\n",
              "      <td>yes</td>\n",
              "      <td>northeast</td>\n",
              "      <td>37701.8768</td>\n",
              "    </tr>\n",
              "    <tr>\n",
              "      <th>29</th>\n",
              "      <td>31</td>\n",
              "      <td>male</td>\n",
              "      <td>36.30</td>\n",
              "      <td>2</td>\n",
              "      <td>yes</td>\n",
              "      <td>southwest</td>\n",
              "      <td>38711.0000</td>\n",
              "    </tr>\n",
              "    <tr>\n",
              "      <th>30</th>\n",
              "      <td>22</td>\n",
              "      <td>male</td>\n",
              "      <td>35.60</td>\n",
              "      <td>0</td>\n",
              "      <td>yes</td>\n",
              "      <td>southwest</td>\n",
              "      <td>35585.5760</td>\n",
              "    </tr>\n",
              "  </tbody>\n",
              "</table>\n",
              "</div>\n",
              "      <button class=\"colab-df-convert\" onclick=\"convertToInteractive('df-3573d3b8-5198-4356-9912-5cc474d51a40')\"\n",
              "              title=\"Convert this dataframe to an interactive table.\"\n",
              "              style=\"display:none;\">\n",
              "        \n",
              "  <svg xmlns=\"http://www.w3.org/2000/svg\" height=\"24px\"viewBox=\"0 0 24 24\"\n",
              "       width=\"24px\">\n",
              "    <path d=\"M0 0h24v24H0V0z\" fill=\"none\"/>\n",
              "    <path d=\"M18.56 5.44l.94 2.06.94-2.06 2.06-.94-2.06-.94-.94-2.06-.94 2.06-2.06.94zm-11 1L8.5 8.5l.94-2.06 2.06-.94-2.06-.94L8.5 2.5l-.94 2.06-2.06.94zm10 10l.94 2.06.94-2.06 2.06-.94-2.06-.94-.94-2.06-.94 2.06-2.06.94z\"/><path d=\"M17.41 7.96l-1.37-1.37c-.4-.4-.92-.59-1.43-.59-.52 0-1.04.2-1.43.59L10.3 9.45l-7.72 7.72c-.78.78-.78 2.05 0 2.83L4 21.41c.39.39.9.59 1.41.59.51 0 1.02-.2 1.41-.59l7.78-7.78 2.81-2.81c.8-.78.8-2.07 0-2.86zM5.41 20L4 18.59l7.72-7.72 1.47 1.35L5.41 20z\"/>\n",
              "  </svg>\n",
              "      </button>\n",
              "      \n",
              "  <style>\n",
              "    .colab-df-container {\n",
              "      display:flex;\n",
              "      flex-wrap:wrap;\n",
              "      gap: 12px;\n",
              "    }\n",
              "\n",
              "    .colab-df-convert {\n",
              "      background-color: #E8F0FE;\n",
              "      border: none;\n",
              "      border-radius: 50%;\n",
              "      cursor: pointer;\n",
              "      display: none;\n",
              "      fill: #1967D2;\n",
              "      height: 32px;\n",
              "      padding: 0 0 0 0;\n",
              "      width: 32px;\n",
              "    }\n",
              "\n",
              "    .colab-df-convert:hover {\n",
              "      background-color: #E2EBFA;\n",
              "      box-shadow: 0px 1px 2px rgba(60, 64, 67, 0.3), 0px 1px 3px 1px rgba(60, 64, 67, 0.15);\n",
              "      fill: #174EA6;\n",
              "    }\n",
              "\n",
              "    [theme=dark] .colab-df-convert {\n",
              "      background-color: #3B4455;\n",
              "      fill: #D2E3FC;\n",
              "    }\n",
              "\n",
              "    [theme=dark] .colab-df-convert:hover {\n",
              "      background-color: #434B5C;\n",
              "      box-shadow: 0px 1px 3px 1px rgba(0, 0, 0, 0.15);\n",
              "      filter: drop-shadow(0px 1px 2px rgba(0, 0, 0, 0.3));\n",
              "      fill: #FFFFFF;\n",
              "    }\n",
              "  </style>\n",
              "\n",
              "      <script>\n",
              "        const buttonEl =\n",
              "          document.querySelector('#df-3573d3b8-5198-4356-9912-5cc474d51a40 button.colab-df-convert');\n",
              "        buttonEl.style.display =\n",
              "          google.colab.kernel.accessAllowed ? 'block' : 'none';\n",
              "\n",
              "        async function convertToInteractive(key) {\n",
              "          const element = document.querySelector('#df-3573d3b8-5198-4356-9912-5cc474d51a40');\n",
              "          const dataTable =\n",
              "            await google.colab.kernel.invokeFunction('convertToInteractive',\n",
              "                                                     [key], {});\n",
              "          if (!dataTable) return;\n",
              "\n",
              "          const docLinkHtml = 'Like what you see? Visit the ' +\n",
              "            '<a target=\"_blank\" href=https://colab.research.google.com/notebooks/data_table.ipynb>data table notebook</a>'\n",
              "            + ' to learn more about interactive tables.';\n",
              "          element.innerHTML = '';\n",
              "          dataTable['output_type'] = 'display_data';\n",
              "          await google.colab.output.renderOutput(dataTable, element);\n",
              "          const docLink = document.createElement('div');\n",
              "          docLink.innerHTML = docLinkHtml;\n",
              "          element.appendChild(docLink);\n",
              "        }\n",
              "      </script>\n",
              "    </div>\n",
              "  </div>\n",
              "  "
            ]
          },
          "metadata": {},
          "execution_count": 22
        }
      ],
      "source": [
        "charges_outliers.head()"
      ]
    },
    {
      "cell_type": "code",
      "execution_count": 23,
      "metadata": {
        "colab": {
          "base_uri": "https://localhost:8080/",
          "height": 0
        },
        "id": "EILgcqrQE4ne",
        "outputId": "04568bcc-8eba-4041-e131-9c89736184fc"
      },
      "outputs": [
        {
          "output_type": "display_data",
          "data": {
            "text/plain": [
              "<Figure size 432x288 with 1 Axes>"
            ],
            "image/png": "[encoded data removed]"
          },
          "metadata": {
            "needs_background": "light"
          }
        }
      ],
      "source": [
        "# See the outliers on the \"charges\" variable\n",
        "plt.figure(figsize=(6,4))\n",
        "sns.boxplot(df[\"charges\"], palette=\"magma\")\n",
        "plt.title('Charges Outliers')\n",
        "plt.show()"
      ]
    },
    {
      "cell_type": "markdown",
      "metadata": {
        "id": "xOYFirgxE4ne"
      },
      "source": [
        "There is lots of outliers on the charges variable."
      ]
    },
    {
      "cell_type": "code",
      "execution_count": 24,
      "metadata": {
        "id": "NzYGN3GfE4nf"
      },
      "outputs": [],
      "source": [
        "# Drop the outliers\n",
        "lower = Q1 -(w_width*IQR)\n",
        "upper = Q3 + (w_width*IQR)\n",
        "df['charges']=np.where(df['charges']>upper,upper,np.where(df['charges']<lower,lower,df['charges']))"
      ]
    },
    {
      "cell_type": "code",
      "execution_count": 25,
      "metadata": {
        "colab": {
          "base_uri": "https://localhost:8080/",
          "height": 0
        },
        "id": "-37s_B0XE4nf",
        "outputId": "03ecca1e-16e1-422b-8869-f2751672cf01"
      },
      "outputs": [
        {
          "output_type": "display_data",
          "data": {
            "text/plain": [
              "<Figure size 432x288 with 1 Axes>"
            ],
            "image/png": "[encoded data removed]"
          },
          "metadata": {
            "needs_background": "light"
          }
        }
      ],
      "source": [
        "plt.figure(figsize=(6,4))\n",
        "sns.boxplot(df[\"charges\"], palette=\"magma\")\n",
        "plt.title('Charges Outliers')\n",
        "plt.show()"
      ]
    },
    {
      "cell_type": "markdown",
      "metadata": {
        "id": "RDIBh3dDE4nf"
      },
      "source": [
        "### RELATIPONSHIO BETWEEN \"BMI\" and \"CHARGES\""
      ]
    },
    {
      "cell_type": "code",
      "execution_count": 26,
      "metadata": {
        "colab": {
          "base_uri": "https://localhost:8080/",
          "height": 0
        },
        "id": "wKKvO7zdE4nf",
        "outputId": "16527a43-a959-4e0f-f66d-96d06da0e370"
      },
      "outputs": [
        {
          "output_type": "execute_result",
          "data": {
            "text/plain": [
              "Text(0, 0.5, 'Charges')"
            ]
          },
          "metadata": {},
          "execution_count": 26
        },
        {
          "output_type": "display_data",
          "data": {
            "text/plain": [
              "<Figure size 432x288 with 1 Axes>"
            ],
            "image/png": "[encoded data removed]"
          },
          "metadata": {
            "needs_background": "light"
          }
        }
      ],
      "source": [
        "sns.regplot(x=df[\"bmi\"], y=df[\"charges\"])\n",
        "plt.title('BMI and Charges', fontsize=14)\n",
        "plt.xlabel('BMI', fontsize=14)\n",
        "plt.ylabel('Charges', fontsize=14)"
      ]
    },
    {
      "cell_type": "markdown",
      "metadata": {
        "id": "_f0x3MxqE4nf"
      },
      "source": [
        "We can say that there is a slight linearity between BMI and Charges."
      ]
    },
    {
      "cell_type": "markdown",
      "metadata": {
        "id": "0LE-DCZvE4ng"
      },
      "source": [
        "### RELATIONSHIP BETWEEN “REGION”, “SMOKER” and “BMI”"
      ]
    },
    {
      "cell_type": "code",
      "execution_count": 27,
      "metadata": {
        "colab": {
          "base_uri": "https://localhost:8080/",
          "height": 0
        },
        "id": "UjTdMyP2E4ng",
        "outputId": "54db7528-db70-4c47-9e54-f8f1cab9a444"
      },
      "outputs": [
        {
          "output_type": "display_data",
          "data": {
            "text/plain": [
              "<Figure size 576x432 with 1 Axes>"
            ],
            "image/png": "[encoded data removed]"
          },
          "metadata": {
            "needs_background": "light"
          }
        }
      ],
      "source": [
        "plt.figure(figsize=(8, 6))\n",
        "sns.barplot(x=\"smoker\", hue=\"region\", y=\"bmi\", data=df, orient=\"v\", palette=\"ocean\")\n",
        "plt.show()"
      ]
    },
    {
      "cell_type": "markdown",
      "metadata": {
        "id": "kcJ-mdPZE4ng"
      },
      "source": [
        "#### Part 2 - Data Preprocessing"
      ]
    },
    {
      "cell_type": "markdown",
      "metadata": {
        "id": "-atkX1bSE4ng"
      },
      "source": [
        "#### Let's prepare our dataframe for modeling"
      ]
    },
    {
      "cell_type": "code",
      "execution_count": 28,
      "metadata": {
        "colab": {
          "base_uri": "https://localhost:8080/",
          "height": 0
        },
        "id": "wn4rePQzE4ng",
        "outputId": "8a9fc245-d186-47ae-d0e1-fdfda41e1b33"
      },
      "outputs": [
        {
          "output_type": "execute_result",
          "data": {
            "text/plain": [
              "   age     sex     bmi  children smoker     region      charges\n",
              "0   19  female  27.900         0    yes  southwest  16884.92400\n",
              "1   18    male  33.770         1     no  southeast   1725.55230\n",
              "2   28    male  33.000         3     no  southeast   4449.46200\n",
              "3   33    male  22.705         0     no  northwest  21984.47061\n",
              "4   32    male  28.880         0     no  northwest   3866.85520"
            ],
            "text/html": [
              "\n",
              "  <div id=\"df-efe01078-400f-4909-b615-8b79cc4dd109\">\n",
              "    <div class=\"colab-df-container\">\n",
              "      <div>\n",
              "<style scoped>\n",
              "    .dataframe tbody tr th:only-of-type {\n",
              "        vertical-align: middle;\n",
              "    }\n",
              "\n",
              "    .dataframe tbody tr th {\n",
              "        vertical-align: top;\n",
              "    }\n",
              "\n",
              "    .dataframe thead th {\n",
              "        text-align: right;\n",
              "    }\n",
              "</style>\n",
              "<table border=\"1\" class=\"dataframe\">\n",
              "  <thead>\n",
              "    <tr style=\"text-align: right;\">\n",
              "      <th></th>\n",
              "      <th>age</th>\n",
              "      <th>sex</th>\n",
              "      <th>bmi</th>\n",
              "      <th>children</th>\n",
              "      <th>smoker</th>\n",
              "      <th>region</th>\n",
              "      <th>charges</th>\n",
              "    </tr>\n",
              "  </thead>\n",
              "  <tbody>\n",
              "    <tr>\n",
              "      <th>0</th>\n",
              "      <td>19</td>\n",
              "      <td>female</td>\n",
              "      <td>27.900</td>\n",
              "      <td>0</td>\n",
              "      <td>yes</td>\n",
              "      <td>southwest</td>\n",
              "      <td>16884.92400</td>\n",
              "    </tr>\n",
              "    <tr>\n",
              "      <th>1</th>\n",
              "      <td>18</td>\n",
              "      <td>male</td>\n",
              "      <td>33.770</td>\n",
              "      <td>1</td>\n",
              "      <td>no</td>\n",
              "      <td>southeast</td>\n",
              "      <td>1725.55230</td>\n",
              "    </tr>\n",
              "    <tr>\n",
              "      <th>2</th>\n",
              "      <td>28</td>\n",
              "      <td>male</td>\n",
              "      <td>33.000</td>\n",
              "      <td>3</td>\n",
              "      <td>no</td>\n",
              "      <td>southeast</td>\n",
              "      <td>4449.46200</td>\n",
              "    </tr>\n",
              "    <tr>\n",
              "      <th>3</th>\n",
              "      <td>33</td>\n",
              "      <td>male</td>\n",
              "      <td>22.705</td>\n",
              "      <td>0</td>\n",
              "      <td>no</td>\n",
              "      <td>northwest</td>\n",
              "      <td>21984.47061</td>\n",
              "    </tr>\n",
              "    <tr>\n",
              "      <th>4</th>\n",
              "      <td>32</td>\n",
              "      <td>male</td>\n",
              "      <td>28.880</td>\n",
              "      <td>0</td>\n",
              "      <td>no</td>\n",
              "      <td>northwest</td>\n",
              "      <td>3866.85520</td>\n",
              "    </tr>\n",
              "  </tbody>\n",
              "</table>\n",
              "</div>\n",
              "      <button class=\"colab-df-convert\" onclick=\"convertToInteractive('df-efe01078-400f-4909-b615-8b79cc4dd109')\"\n",
              "              title=\"Convert this dataframe to an interactive table.\"\n",
              "              style=\"display:none;\">\n",
              "        \n",
              "  <svg xmlns=\"http://www.w3.org/2000/svg\" height=\"24px\"viewBox=\"0 0 24 24\"\n",
              "       width=\"24px\">\n",
              "    <path d=\"M0 0h24v24H0V0z\" fill=\"none\"/>\n",
              "    <path d=\"M18.56 5.44l.94 2.06.94-2.06 2.06-.94-2.06-.94-.94-2.06-.94 2.06-2.06.94zm-11 1L8.5 8.5l.94-2.06 2.06-.94-2.06-.94L8.5 2.5l-.94 2.06-2.06.94zm10 10l.94 2.06.94-2.06 2.06-.94-2.06-.94-.94-2.06-.94 2.06-2.06.94z\"/><path d=\"M17.41 7.96l-1.37-1.37c-.4-.4-.92-.59-1.43-.59-.52 0-1.04.2-1.43.59L10.3 9.45l-7.72 7.72c-.78.78-.78 2.05 0 2.83L4 21.41c.39.39.9.59 1.41.59.51 0 1.02-.2 1.41-.59l7.78-7.78 2.81-2.81c.8-.78.8-2.07 0-2.86zM5.41 20L4 18.59l7.72-7.72 1.47 1.35L5.41 20z\"/>\n",
              "  </svg>\n",
              "      </button>\n",
              "      \n",
              "  <style>\n",
              "    .colab-df-container {\n",
              "      display:flex;\n",
              "      flex-wrap:wrap;\n",
              "      gap: 12px;\n",
              "    }\n",
              "\n",
              "    .colab-df-convert {\n",
              "      background-color: #E8F0FE;\n",
              "      border: none;\n",
              "      border-radius: 50%;\n",
              "      cursor: pointer;\n",
              "      display: none;\n",
              "      fill: #1967D2;\n",
              "      height: 32px;\n",
              "      padding: 0 0 0 0;\n",
              "      width: 32px;\n",
              "    }\n",
              "\n",
              "    .colab-df-convert:hover {\n",
              "      background-color: #E2EBFA;\n",
              "      box-shadow: 0px 1px 2px rgba(60, 64, 67, 0.3), 0px 1px 3px 1px rgba(60, 64, 67, 0.15);\n",
              "      fill: #174EA6;\n",
              "    }\n",
              "\n",
              "    [theme=dark] .colab-df-convert {\n",
              "      background-color: #3B4455;\n",
              "      fill: #D2E3FC;\n",
              "    }\n",
              "\n",
              "    [theme=dark] .colab-df-convert:hover {\n",
              "      background-color: #434B5C;\n",
              "      box-shadow: 0px 1px 3px 1px rgba(0, 0, 0, 0.15);\n",
              "      filter: drop-shadow(0px 1px 2px rgba(0, 0, 0, 0.3));\n",
              "      fill: #FFFFFF;\n",
              "    }\n",
              "  </style>\n",
              "\n",
              "      <script>\n",
              "        const buttonEl =\n",
              "          document.querySelector('#df-efe01078-400f-4909-b615-8b79cc4dd109 button.colab-df-convert');\n",
              "        buttonEl.style.display =\n",
              "          google.colab.kernel.accessAllowed ? 'block' : 'none';\n",
              "\n",
              "        async function convertToInteractive(key) {\n",
              "          const element = document.querySelector('#df-efe01078-400f-4909-b615-8b79cc4dd109');\n",
              "          const dataTable =\n",
              "            await google.colab.kernel.invokeFunction('convertToInteractive',\n",
              "                                                     [key], {});\n",
              "          if (!dataTable) return;\n",
              "\n",
              "          const docLinkHtml = 'Like what you see? Visit the ' +\n",
              "            '<a target=\"_blank\" href=https://colab.research.google.com/notebooks/data_table.ipynb>data table notebook</a>'\n",
              "            + ' to learn more about interactive tables.';\n",
              "          element.innerHTML = '';\n",
              "          dataTable['output_type'] = 'display_data';\n",
              "          await google.colab.output.renderOutput(dataTable, element);\n",
              "          const docLink = document.createElement('div');\n",
              "          docLink.innerHTML = docLinkHtml;\n",
              "          element.appendChild(docLink);\n",
              "        }\n",
              "      </script>\n",
              "    </div>\n",
              "  </div>\n",
              "  "
            ]
          },
          "metadata": {},
          "execution_count": 28
        }
      ],
      "source": [
        "df.head()"
      ]
    },
    {
      "cell_type": "code",
      "execution_count": 29,
      "metadata": {
        "colab": {
          "base_uri": "https://localhost:8080/",
          "height": 0
        },
        "id": "I6KghY6JE4nh",
        "outputId": "1dbc6c11-a27c-46d2-c09d-e2c4dbc607e9"
      },
      "outputs": [
        {
          "output_type": "execute_result",
          "data": {
            "text/plain": [
              "   age     bmi  children     sex smoker     region      charges\n",
              "0   19  27.900         0  female    yes  southwest  16884.92400\n",
              "1   18  33.770         1    male     no  southeast   1725.55230\n",
              "2   28  33.000         3    male     no  southeast   4449.46200\n",
              "3   33  22.705         0    male     no  northwest  21984.47061\n",
              "4   32  28.880         0    male     no  northwest   3866.85520"
            ],
            "text/html": [
              "\n",
              "  <div id=\"df-4f497c84-75ad-4adb-bacd-b6bac8f2f308\">\n",
              "    <div class=\"colab-df-container\">\n",
              "      <div>\n",
              "<style scoped>\n",
              "    .dataframe tbody tr th:only-of-type {\n",
              "        vertical-align: middle;\n",
              "    }\n",
              "\n",
              "    .dataframe tbody tr th {\n",
              "        vertical-align: top;\n",
              "    }\n",
              "\n",
              "    .dataframe thead th {\n",
              "        text-align: right;\n",
              "    }\n",
              "</style>\n",
              "<table border=\"1\" class=\"dataframe\">\n",
              "  <thead>\n",
              "    <tr style=\"text-align: right;\">\n",
              "      <th></th>\n",
              "      <th>age</th>\n",
              "      <th>bmi</th>\n",
              "      <th>children</th>\n",
              "      <th>sex</th>\n",
              "      <th>smoker</th>\n",
              "      <th>region</th>\n",
              "      <th>charges</th>\n",
              "    </tr>\n",
              "  </thead>\n",
              "  <tbody>\n",
              "    <tr>\n",
              "      <th>0</th>\n",
              "      <td>19</td>\n",
              "      <td>27.900</td>\n",
              "      <td>0</td>\n",
              "      <td>female</td>\n",
              "      <td>yes</td>\n",
              "      <td>southwest</td>\n",
              "      <td>16884.92400</td>\n",
              "    </tr>\n",
              "    <tr>\n",
              "      <th>1</th>\n",
              "      <td>18</td>\n",
              "      <td>33.770</td>\n",
              "      <td>1</td>\n",
              "      <td>male</td>\n",
              "      <td>no</td>\n",
              "      <td>southeast</td>\n",
              "      <td>1725.55230</td>\n",
              "    </tr>\n",
              "    <tr>\n",
              "      <th>2</th>\n",
              "      <td>28</td>\n",
              "      <td>33.000</td>\n",
              "      <td>3</td>\n",
              "      <td>male</td>\n",
              "      <td>no</td>\n",
              "      <td>southeast</td>\n",
              "      <td>4449.46200</td>\n",
              "    </tr>\n",
              "    <tr>\n",
              "      <th>3</th>\n",
              "      <td>33</td>\n",
              "      <td>22.705</td>\n",
              "      <td>0</td>\n",
              "      <td>male</td>\n",
              "      <td>no</td>\n",
              "      <td>northwest</td>\n",
              "      <td>21984.47061</td>\n",
              "    </tr>\n",
              "    <tr>\n",
              "      <th>4</th>\n",
              "      <td>32</td>\n",
              "      <td>28.880</td>\n",
              "      <td>0</td>\n",
              "      <td>male</td>\n",
              "      <td>no</td>\n",
              "      <td>northwest</td>\n",
              "      <td>3866.85520</td>\n",
              "    </tr>\n",
              "  </tbody>\n",
              "</table>\n",
              "</div>\n",
              "      <button class=\"colab-df-convert\" onclick=\"convertToInteractive('df-4f497c84-75ad-4adb-bacd-b6bac8f2f308')\"\n",
              "              title=\"Convert this dataframe to an interactive table.\"\n",
              "              style=\"display:none;\">\n",
              "        \n",
              "  <svg xmlns=\"http://www.w3.org/2000/svg\" height=\"24px\"viewBox=\"0 0 24 24\"\n",
              "       width=\"24px\">\n",
              "    <path d=\"M0 0h24v24H0V0z\" fill=\"none\"/>\n",
              "    <path d=\"M18.56 5.44l.94 2.06.94-2.06 2.06-.94-2.06-.94-.94-2.06-.94 2.06-2.06.94zm-11 1L8.5 8.5l.94-2.06 2.06-.94-2.06-.94L8.5 2.5l-.94 2.06-2.06.94zm10 10l.94 2.06.94-2.06 2.06-.94-2.06-.94-.94-2.06-.94 2.06-2.06.94z\"/><path d=\"M17.41 7.96l-1.37-1.37c-.4-.4-.92-.59-1.43-.59-.52 0-1.04.2-1.43.59L10.3 9.45l-7.72 7.72c-.78.78-.78 2.05 0 2.83L4 21.41c.39.39.9.59 1.41.59.51 0 1.02-.2 1.41-.59l7.78-7.78 2.81-2.81c.8-.78.8-2.07 0-2.86zM5.41 20L4 18.59l7.72-7.72 1.47 1.35L5.41 20z\"/>\n",
              "  </svg>\n",
              "      </button>\n",
              "      \n",
              "  <style>\n",
              "    .colab-df-container {\n",
              "      display:flex;\n",
              "      flex-wrap:wrap;\n",
              "      gap: 12px;\n",
              "    }\n",
              "\n",
              "    .colab-df-convert {\n",
              "      background-color: #E8F0FE;\n",
              "      border: none;\n",
              "      border-radius: 50%;\n",
              "      cursor: pointer;\n",
              "      display: none;\n",
              "      fill: #1967D2;\n",
              "      height: 32px;\n",
              "      padding: 0 0 0 0;\n",
              "      width: 32px;\n",
              "    }\n",
              "\n",
              "    .colab-df-convert:hover {\n",
              "      background-color: #E2EBFA;\n",
              "      box-shadow: 0px 1px 2px rgba(60, 64, 67, 0.3), 0px 1px 3px 1px rgba(60, 64, 67, 0.15);\n",
              "      fill: #174EA6;\n",
              "    }\n",
              "\n",
              "    [theme=dark] .colab-df-convert {\n",
              "      background-color: #3B4455;\n",
              "      fill: #D2E3FC;\n",
              "    }\n",
              "\n",
              "    [theme=dark] .colab-df-convert:hover {\n",
              "      background-color: #434B5C;\n",
              "      box-shadow: 0px 1px 3px 1px rgba(0, 0, 0, 0.15);\n",
              "      filter: drop-shadow(0px 1px 2px rgba(0, 0, 0, 0.3));\n",
              "      fill: #FFFFFF;\n",
              "    }\n",
              "  </style>\n",
              "\n",
              "      <script>\n",
              "        const buttonEl =\n",
              "          document.querySelector('#df-4f497c84-75ad-4adb-bacd-b6bac8f2f308 button.colab-df-convert');\n",
              "        buttonEl.style.display =\n",
              "          google.colab.kernel.accessAllowed ? 'block' : 'none';\n",
              "\n",
              "        async function convertToInteractive(key) {\n",
              "          const element = document.querySelector('#df-4f497c84-75ad-4adb-bacd-b6bac8f2f308');\n",
              "          const dataTable =\n",
              "            await google.colab.kernel.invokeFunction('convertToInteractive',\n",
              "                                                     [key], {});\n",
              "          if (!dataTable) return;\n",
              "\n",
              "          const docLinkHtml = 'Like what you see? Visit the ' +\n",
              "            '<a target=\"_blank\" href=https://colab.research.google.com/notebooks/data_table.ipynb>data table notebook</a>'\n",
              "            + ' to learn more about interactive tables.';\n",
              "          element.innerHTML = '';\n",
              "          dataTable['output_type'] = 'display_data';\n",
              "          await google.colab.output.renderOutput(dataTable, element);\n",
              "          const docLink = document.createElement('div');\n",
              "          docLink.innerHTML = docLinkHtml;\n",
              "          element.appendChild(docLink);\n",
              "        }\n",
              "      </script>\n",
              "    </div>\n",
              "  </div>\n",
              "  "
            ]
          },
          "metadata": {},
          "execution_count": 29
        }
      ],
      "source": [
        "# Change the column order so that the categorical data comes to the end\n",
        "df = df[['age', 'bmi', 'children', 'sex', 'smoker','region','charges']]\n",
        "df.head()"
      ]
    },
    {
      "cell_type": "code",
      "execution_count": 30,
      "metadata": {
        "colab": {
          "base_uri": "https://localhost:8080/"
        },
        "id": "UUDStGW6E4nh",
        "outputId": "badf71a5-7078-404f-b42c-530320bca23f"
      },
      "outputs": [
        {
          "output_type": "execute_result",
          "data": {
            "text/plain": [
              "age         0.0\n",
              "bmi         0.0\n",
              "children    0.0\n",
              "sex         0.0\n",
              "smoker      0.0\n",
              "region      0.0\n",
              "charges     0.0\n",
              "dtype: float64"
            ]
          },
          "metadata": {},
          "execution_count": 30
        }
      ],
      "source": [
        "# Is there any missing values (%)\n",
        "df.isna().sum() / df.shape[0] * 100"
      ]
    },
    {
      "cell_type": "markdown",
      "metadata": {
        "id": "BeCjqg9rE4nh"
      },
      "source": [
        "There is no missing value in our data."
      ]
    },
    {
      "cell_type": "code",
      "execution_count": 31,
      "metadata": {
        "colab": {
          "base_uri": "https://localhost:8080/",
          "height": 0
        },
        "id": "GHAHtXjhE4nh",
        "outputId": "89640eb6-ce0a-4f8f-dea9-75bfdc4ae70d"
      },
      "outputs": [
        {
          "output_type": "execute_result",
          "data": {
            "text/plain": [
              "      age     bmi  children     sex smoker     region      charges    0    1  \\\n",
              "0      19  27.900         0  female    yes  southwest  16884.92400  0.0  0.0   \n",
              "1      18  33.770         1    male     no  southeast   1725.55230  0.0  0.0   \n",
              "2      28  33.000         3    male     no  southeast   4449.46200  0.0  0.0   \n",
              "3      33  22.705         0    male     no  northwest  21984.47061  0.0  1.0   \n",
              "4      32  28.880         0    male     no  northwest   3866.85520  0.0  1.0   \n",
              "...   ...     ...       ...     ...    ...        ...          ...  ...  ...   \n",
              "1333   50  30.970         3    male     no  northwest  10600.54830  0.0  1.0   \n",
              "1334   18  31.920         0  female     no  northeast   2205.98080  1.0  0.0   \n",
              "1335   18  36.850         0  female     no  southeast   1629.83350  0.0  0.0   \n",
              "1336   21  25.800         0  female     no  southwest   2007.94500  0.0  0.0   \n",
              "1337   61  29.070         0  female    yes  northwest  29141.36030  0.0  1.0   \n",
              "\n",
              "        2    3  \n",
              "0     0.0  1.0  \n",
              "1     1.0  0.0  \n",
              "2     1.0  0.0  \n",
              "3     0.0  0.0  \n",
              "4     0.0  0.0  \n",
              "...   ...  ...  \n",
              "1333  0.0  0.0  \n",
              "1334  0.0  0.0  \n",
              "1335  1.0  0.0  \n",
              "1336  0.0  1.0  \n",
              "1337  0.0  0.0  \n",
              "\n",
              "[1338 rows x 11 columns]"
            ],
            "text/html": [
              "\n",
              "  <div id=\"df-5c88e58a-d3d4-4f85-bdaf-7af6638a5774\">\n",
              "    <div class=\"colab-df-container\">\n",
              "      <div>\n",
              "<style scoped>\n",
              "    .dataframe tbody tr th:only-of-type {\n",
              "        vertical-align: middle;\n",
              "    }\n",
              "\n",
              "    .dataframe tbody tr th {\n",
              "        vertical-align: top;\n",
              "    }\n",
              "\n",
              "    .dataframe thead th {\n",
              "        text-align: right;\n",
              "    }\n",
              "</style>\n",
              "<table border=\"1\" class=\"dataframe\">\n",
              "  <thead>\n",
              "    <tr style=\"text-align: right;\">\n",
              "      <th></th>\n",
              "      <th>age</th>\n",
              "      <th>bmi</th>\n",
              "      <th>children</th>\n",
              "      <th>sex</th>\n",
              "      <th>smoker</th>\n",
              "      <th>region</th>\n",
              "      <th>charges</th>\n",
              "      <th>0</th>\n",
              "      <th>1</th>\n",
              "      <th>2</th>\n",
              "      <th>3</th>\n",
              "    </tr>\n",
              "  </thead>\n",
              "  <tbody>\n",
              "    <tr>\n",
              "      <th>0</th>\n",
              "      <td>19</td>\n",
              "      <td>27.900</td>\n",
              "      <td>0</td>\n",
              "      <td>female</td>\n",
              "      <td>yes</td>\n",
              "      <td>southwest</td>\n",
              "      <td>16884.92400</td>\n",
              "      <td>0.0</td>\n",
              "      <td>0.0</td>\n",
              "      <td>0.0</td>\n",
              "      <td>1.0</td>\n",
              "    </tr>\n",
              "    <tr>\n",
              "      <th>1</th>\n",
              "      <td>18</td>\n",
              "      <td>33.770</td>\n",
              "      <td>1</td>\n",
              "      <td>male</td>\n",
              "      <td>no</td>\n",
              "      <td>southeast</td>\n",
              "      <td>1725.55230</td>\n",
              "      <td>0.0</td>\n",
              "      <td>0.0</td>\n",
              "      <td>1.0</td>\n",
              "      <td>0.0</td>\n",
              "    </tr>\n",
              "    <tr>\n",
              "      <th>2</th>\n",
              "      <td>28</td>\n",
              "      <td>33.000</td>\n",
              "      <td>3</td>\n",
              "      <td>male</td>\n",
              "      <td>no</td>\n",
              "      <td>southeast</td>\n",
              "      <td>4449.46200</td>\n",
              "      <td>0.0</td>\n",
              "      <td>0.0</td>\n",
              "      <td>1.0</td>\n",
              "      <td>0.0</td>\n",
              "    </tr>\n",
              "    <tr>\n",
              "      <th>3</th>\n",
              "      <td>33</td>\n",
              "      <td>22.705</td>\n",
              "      <td>0</td>\n",
              "      <td>male</td>\n",
              "      <td>no</td>\n",
              "      <td>northwest</td>\n",
              "      <td>21984.47061</td>\n",
              "      <td>0.0</td>\n",
              "      <td>1.0</td>\n",
              "      <td>0.0</td>\n",
              "      <td>0.0</td>\n",
              "    </tr>\n",
              "    <tr>\n",
              "      <th>4</th>\n",
              "      <td>32</td>\n",
              "      <td>28.880</td>\n",
              "      <td>0</td>\n",
              "      <td>male</td>\n",
              "      <td>no</td>\n",
              "      <td>northwest</td>\n",
              "      <td>3866.85520</td>\n",
              "      <td>0.0</td>\n",
              "      <td>1.0</td>\n",
              "      <td>0.0</td>\n",
              "      <td>0.0</td>\n",
              "    </tr>\n",
              "    <tr>\n",
              "      <th>...</th>\n",
              "      <td>...</td>\n",
              "      <td>...</td>\n",
              "      <td>...</td>\n",
              "      <td>...</td>\n",
              "      <td>...</td>\n",
              "      <td>...</td>\n",
              "      <td>...</td>\n",
              "      <td>...</td>\n",
              "      <td>...</td>\n",
              "      <td>...</td>\n",
              "      <td>...</td>\n",
              "    </tr>\n",
              "    <tr>\n",
              "      <th>1333</th>\n",
              "      <td>50</td>\n",
              "      <td>30.970</td>\n",
              "      <td>3</td>\n",
              "      <td>male</td>\n",
              "      <td>no</td>\n",
              "      <td>northwest</td>\n",
              "      <td>10600.54830</td>\n",
              "      <td>0.0</td>\n",
              "      <td>1.0</td>\n",
              "      <td>0.0</td>\n",
              "      <td>0.0</td>\n",
              "    </tr>\n",
              "    <tr>\n",
              "      <th>1334</th>\n",
              "      <td>18</td>\n",
              "      <td>31.920</td>\n",
              "      <td>0</td>\n",
              "      <td>female</td>\n",
              "      <td>no</td>\n",
              "      <td>northeast</td>\n",
              "      <td>2205.98080</td>\n",
              "      <td>1.0</td>\n",
              "      <td>0.0</td>\n",
              "      <td>0.0</td>\n",
              "      <td>0.0</td>\n",
              "    </tr>\n",
              "    <tr>\n",
              "      <th>1335</th>\n",
              "      <td>18</td>\n",
              "      <td>36.850</td>\n",
              "      <td>0</td>\n",
              "      <td>female</td>\n",
              "      <td>no</td>\n",
              "      <td>southeast</td>\n",
              "      <td>1629.83350</td>\n",
              "      <td>0.0</td>\n",
              "      <td>0.0</td>\n",
              "      <td>1.0</td>\n",
              "      <td>0.0</td>\n",
              "    </tr>\n",
              "    <tr>\n",
              "      <th>1336</th>\n",
              "      <td>21</td>\n",
              "      <td>25.800</td>\n",
              "      <td>0</td>\n",
              "      <td>female</td>\n",
              "      <td>no</td>\n",
              "      <td>southwest</td>\n",
              "      <td>2007.94500</td>\n",
              "      <td>0.0</td>\n",
              "      <td>0.0</td>\n",
              "      <td>0.0</td>\n",
              "      <td>1.0</td>\n",
              "    </tr>\n",
              "    <tr>\n",
              "      <th>1337</th>\n",
              "      <td>61</td>\n",
              "      <td>29.070</td>\n",
              "      <td>0</td>\n",
              "      <td>female</td>\n",
              "      <td>yes</td>\n",
              "      <td>northwest</td>\n",
              "      <td>29141.36030</td>\n",
              "      <td>0.0</td>\n",
              "      <td>1.0</td>\n",
              "      <td>0.0</td>\n",
              "      <td>0.0</td>\n",
              "    </tr>\n",
              "  </tbody>\n",
              "</table>\n",
              "<p>1338 rows × 11 columns</p>\n",
              "</div>\n",
              "      <button class=\"colab-df-convert\" onclick=\"convertToInteractive('df-5c88e58a-d3d4-4f85-bdaf-7af6638a5774')\"\n",
              "              title=\"Convert this dataframe to an interactive table.\"\n",
              "              style=\"display:none;\">\n",
              "        \n",
              "  <svg xmlns=\"http://www.w3.org/2000/svg\" height=\"24px\"viewBox=\"0 0 24 24\"\n",
              "       width=\"24px\">\n",
              "    <path d=\"M0 0h24v24H0V0z\" fill=\"none\"/>\n",
              "    <path d=\"M18.56 5.44l.94 2.06.94-2.06 2.06-.94-2.06-.94-.94-2.06-.94 2.06-2.06.94zm-11 1L8.5 8.5l.94-2.06 2.06-.94-2.06-.94L8.5 2.5l-.94 2.06-2.06.94zm10 10l.94 2.06.94-2.06 2.06-.94-2.06-.94-.94-2.06-.94 2.06-2.06.94z\"/><path d=\"M17.41 7.96l-1.37-1.37c-.4-.4-.92-.59-1.43-.59-.52 0-1.04.2-1.43.59L10.3 9.45l-7.72 7.72c-.78.78-.78 2.05 0 2.83L4 21.41c.39.39.9.59 1.41.59.51 0 1.02-.2 1.41-.59l7.78-7.78 2.81-2.81c.8-.78.8-2.07 0-2.86zM5.41 20L4 18.59l7.72-7.72 1.47 1.35L5.41 20z\"/>\n",
              "  </svg>\n",
              "      </button>\n",
              "      \n",
              "  <style>\n",
              "    .colab-df-container {\n",
              "      display:flex;\n",
              "      flex-wrap:wrap;\n",
              "      gap: 12px;\n",
              "    }\n",
              "\n",
              "    .colab-df-convert {\n",
              "      background-color: #E8F0FE;\n",
              "      border: none;\n",
              "      border-radius: 50%;\n",
              "      cursor: pointer;\n",
              "      display: none;\n",
              "      fill: #1967D2;\n",
              "      height: 32px;\n",
              "      padding: 0 0 0 0;\n",
              "      width: 32px;\n",
              "    }\n",
              "\n",
              "    .colab-df-convert:hover {\n",
              "      background-color: #E2EBFA;\n",
              "      box-shadow: 0px 1px 2px rgba(60, 64, 67, 0.3), 0px 1px 3px 1px rgba(60, 64, 67, 0.15);\n",
              "      fill: #174EA6;\n",
              "    }\n",
              "\n",
              "    [theme=dark] .colab-df-convert {\n",
              "      background-color: #3B4455;\n",
              "      fill: #D2E3FC;\n",
              "    }\n",
              "\n",
              "    [theme=dark] .colab-df-convert:hover {\n",
              "      background-color: #434B5C;\n",
              "      box-shadow: 0px 1px 3px 1px rgba(0, 0, 0, 0.15);\n",
              "      filter: drop-shadow(0px 1px 2px rgba(0, 0, 0, 0.3));\n",
              "      fill: #FFFFFF;\n",
              "    }\n",
              "  </style>\n",
              "\n",
              "      <script>\n",
              "        const buttonEl =\n",
              "          document.querySelector('#df-5c88e58a-d3d4-4f85-bdaf-7af6638a5774 button.colab-df-convert');\n",
              "        buttonEl.style.display =\n",
              "          google.colab.kernel.accessAllowed ? 'block' : 'none';\n",
              "\n",
              "        async function convertToInteractive(key) {\n",
              "          const element = document.querySelector('#df-5c88e58a-d3d4-4f85-bdaf-7af6638a5774');\n",
              "          const dataTable =\n",
              "            await google.colab.kernel.invokeFunction('convertToInteractive',\n",
              "                                                     [key], {});\n",
              "          if (!dataTable) return;\n",
              "\n",
              "          const docLinkHtml = 'Like what you see? Visit the ' +\n",
              "            '<a target=\"_blank\" href=https://colab.research.google.com/notebooks/data_table.ipynb>data table notebook</a>'\n",
              "            + ' to learn more about interactive tables.';\n",
              "          element.innerHTML = '';\n",
              "          dataTable['output_type'] = 'display_data';\n",
              "          await google.colab.output.renderOutput(dataTable, element);\n",
              "          const docLink = document.createElement('div');\n",
              "          docLink.innerHTML = docLinkHtml;\n",
              "          element.appendChild(docLink);\n",
              "        }\n",
              "      </script>\n",
              "    </div>\n",
              "  </div>\n",
              "  "
            ]
          },
          "metadata": {},
          "execution_count": 31
        }
      ],
      "source": [
        "# One Hot Encoding the \"region\" columns\n",
        "from sklearn.preprocessing import OneHotEncoder\n",
        "encoder = OneHotEncoder(handle_unknown='ignore')\n",
        "encoder_df = pd.DataFrame(encoder.fit_transform(df[['region']]).toarray())\n",
        "df = df.join(encoder_df)\n",
        "df"
      ]
    },
    {
      "cell_type": "code",
      "execution_count": 32,
      "metadata": {
        "colab": {
          "base_uri": "https://localhost:8080/",
          "height": 0
        },
        "id": "WsW65BH2E4nh",
        "outputId": "e011d2a6-2bc3-4e3c-98bf-2769caf139a7"
      },
      "outputs": [
        {
          "output_type": "execute_result",
          "data": {
            "text/plain": [
              "   age     bmi  children     sex smoker    0    1    2    3      charges\n",
              "0   19  27.900         0  female    yes  0.0  0.0  0.0  1.0  16884.92400\n",
              "1   18  33.770         1    male     no  0.0  0.0  1.0  0.0   1725.55230\n",
              "2   28  33.000         3    male     no  0.0  0.0  1.0  0.0   4449.46200\n",
              "3   33  22.705         0    male     no  0.0  1.0  0.0  0.0  21984.47061\n",
              "4   32  28.880         0    male     no  0.0  1.0  0.0  0.0   3866.85520"
            ],
            "text/html": [
              "\n",
              "  <div id=\"df-2fcafad5-ea47-4187-b942-e5595556ce74\">\n",
              "    <div class=\"colab-df-container\">\n",
              "      <div>\n",
              "<style scoped>\n",
              "    .dataframe tbody tr th:only-of-type {\n",
              "        vertical-align: middle;\n",
              "    }\n",
              "\n",
              "    .dataframe tbody tr th {\n",
              "        vertical-align: top;\n",
              "    }\n",
              "\n",
              "    .dataframe thead th {\n",
              "        text-align: right;\n",
              "    }\n",
              "</style>\n",
              "<table border=\"1\" class=\"dataframe\">\n",
              "  <thead>\n",
              "    <tr style=\"text-align: right;\">\n",
              "      <th></th>\n",
              "      <th>age</th>\n",
              "      <th>bmi</th>\n",
              "      <th>children</th>\n",
              "      <th>sex</th>\n",
              "      <th>smoker</th>\n",
              "      <th>0</th>\n",
              "      <th>1</th>\n",
              "      <th>2</th>\n",
              "      <th>3</th>\n",
              "      <th>charges</th>\n",
              "    </tr>\n",
              "  </thead>\n",
              "  <tbody>\n",
              "    <tr>\n",
              "      <th>0</th>\n",
              "      <td>19</td>\n",
              "      <td>27.900</td>\n",
              "      <td>0</td>\n",
              "      <td>female</td>\n",
              "      <td>yes</td>\n",
              "      <td>0.0</td>\n",
              "      <td>0.0</td>\n",
              "      <td>0.0</td>\n",
              "      <td>1.0</td>\n",
              "      <td>16884.92400</td>\n",
              "    </tr>\n",
              "    <tr>\n",
              "      <th>1</th>\n",
              "      <td>18</td>\n",
              "      <td>33.770</td>\n",
              "      <td>1</td>\n",
              "      <td>male</td>\n",
              "      <td>no</td>\n",
              "      <td>0.0</td>\n",
              "      <td>0.0</td>\n",
              "      <td>1.0</td>\n",
              "      <td>0.0</td>\n",
              "      <td>1725.55230</td>\n",
              "    </tr>\n",
              "    <tr>\n",
              "      <th>2</th>\n",
              "      <td>28</td>\n",
              "      <td>33.000</td>\n",
              "      <td>3</td>\n",
              "      <td>male</td>\n",
              "      <td>no</td>\n",
              "      <td>0.0</td>\n",
              "      <td>0.0</td>\n",
              "      <td>1.0</td>\n",
              "      <td>0.0</td>\n",
              "      <td>4449.46200</td>\n",
              "    </tr>\n",
              "    <tr>\n",
              "      <th>3</th>\n",
              "      <td>33</td>\n",
              "      <td>22.705</td>\n",
              "      <td>0</td>\n",
              "      <td>male</td>\n",
              "      <td>no</td>\n",
              "      <td>0.0</td>\n",
              "      <td>1.0</td>\n",
              "      <td>0.0</td>\n",
              "      <td>0.0</td>\n",
              "      <td>21984.47061</td>\n",
              "    </tr>\n",
              "    <tr>\n",
              "      <th>4</th>\n",
              "      <td>32</td>\n",
              "      <td>28.880</td>\n",
              "      <td>0</td>\n",
              "      <td>male</td>\n",
              "      <td>no</td>\n",
              "      <td>0.0</td>\n",
              "      <td>1.0</td>\n",
              "      <td>0.0</td>\n",
              "      <td>0.0</td>\n",
              "      <td>3866.85520</td>\n",
              "    </tr>\n",
              "  </tbody>\n",
              "</table>\n",
              "</div>\n",
              "      <button class=\"colab-df-convert\" onclick=\"convertToInteractive('df-2fcafad5-ea47-4187-b942-e5595556ce74')\"\n",
              "              title=\"Convert this dataframe to an interactive table.\"\n",
              "              style=\"display:none;\">\n",
              "        \n",
              "  <svg xmlns=\"http://www.w3.org/2000/svg\" height=\"24px\"viewBox=\"0 0 24 24\"\n",
              "       width=\"24px\">\n",
              "    <path d=\"M0 0h24v24H0V0z\" fill=\"none\"/>\n",
              "    <path d=\"M18.56 5.44l.94 2.06.94-2.06 2.06-.94-2.06-.94-.94-2.06-.94 2.06-2.06.94zm-11 1L8.5 8.5l.94-2.06 2.06-.94-2.06-.94L8.5 2.5l-.94 2.06-2.06.94zm10 10l.94 2.06.94-2.06 2.06-.94-2.06-.94-.94-2.06-.94 2.06-2.06.94z\"/><path d=\"M17.41 7.96l-1.37-1.37c-.4-.4-.92-.59-1.43-.59-.52 0-1.04.2-1.43.59L10.3 9.45l-7.72 7.72c-.78.78-.78 2.05 0 2.83L4 21.41c.39.39.9.59 1.41.59.51 0 1.02-.2 1.41-.59l7.78-7.78 2.81-2.81c.8-.78.8-2.07 0-2.86zM5.41 20L4 18.59l7.72-7.72 1.47 1.35L5.41 20z\"/>\n",
              "  </svg>\n",
              "      </button>\n",
              "      \n",
              "  <style>\n",
              "    .colab-df-container {\n",
              "      display:flex;\n",
              "      flex-wrap:wrap;\n",
              "      gap: 12px;\n",
              "    }\n",
              "\n",
              "    .colab-df-convert {\n",
              "      background-color: #E8F0FE;\n",
              "      border: none;\n",
              "      border-radius: 50%;\n",
              "      cursor: pointer;\n",
              "      display: none;\n",
              "      fill: #1967D2;\n",
              "      height: 32px;\n",
              "      padding: 0 0 0 0;\n",
              "      width: 32px;\n",
              "    }\n",
              "\n",
              "    .colab-df-convert:hover {\n",
              "      background-color: #E2EBFA;\n",
              "      box-shadow: 0px 1px 2px rgba(60, 64, 67, 0.3), 0px 1px 3px 1px rgba(60, 64, 67, 0.15);\n",
              "      fill: #174EA6;\n",
              "    }\n",
              "\n",
              "    [theme=dark] .colab-df-convert {\n",
              "      background-color: #3B4455;\n",
              "      fill: #D2E3FC;\n",
              "    }\n",
              "\n",
              "    [theme=dark] .colab-df-convert:hover {\n",
              "      background-color: #434B5C;\n",
              "      box-shadow: 0px 1px 3px 1px rgba(0, 0, 0, 0.15);\n",
              "      filter: drop-shadow(0px 1px 2px rgba(0, 0, 0, 0.3));\n",
              "      fill: #FFFFFF;\n",
              "    }\n",
              "  </style>\n",
              "\n",
              "      <script>\n",
              "        const buttonEl =\n",
              "          document.querySelector('#df-2fcafad5-ea47-4187-b942-e5595556ce74 button.colab-df-convert');\n",
              "        buttonEl.style.display =\n",
              "          google.colab.kernel.accessAllowed ? 'block' : 'none';\n",
              "\n",
              "        async function convertToInteractive(key) {\n",
              "          const element = document.querySelector('#df-2fcafad5-ea47-4187-b942-e5595556ce74');\n",
              "          const dataTable =\n",
              "            await google.colab.kernel.invokeFunction('convertToInteractive',\n",
              "                                                     [key], {});\n",
              "          if (!dataTable) return;\n",
              "\n",
              "          const docLinkHtml = 'Like what you see? Visit the ' +\n",
              "            '<a target=\"_blank\" href=https://colab.research.google.com/notebooks/data_table.ipynb>data table notebook</a>'\n",
              "            + ' to learn more about interactive tables.';\n",
              "          element.innerHTML = '';\n",
              "          dataTable['output_type'] = 'display_data';\n",
              "          await google.colab.output.renderOutput(dataTable, element);\n",
              "          const docLink = document.createElement('div');\n",
              "          docLink.innerHTML = docLinkHtml;\n",
              "          element.appendChild(docLink);\n",
              "        }\n",
              "      </script>\n",
              "    </div>\n",
              "  </div>\n",
              "  "
            ]
          },
          "metadata": {},
          "execution_count": 32
        }
      ],
      "source": [
        "df = df[['age', 'bmi', 'children', 'sex', 'smoker',0,1,2,3,'charges']]\n",
        "df.head()"
      ]
    },
    {
      "cell_type": "code",
      "execution_count": 33,
      "metadata": {
        "colab": {
          "base_uri": "https://localhost:8080/",
          "height": 0
        },
        "id": "GsYj2qejE4ni",
        "outputId": "4506beec-9e83-4c4a-8c82-bb55a4bec4e5"
      },
      "outputs": [
        {
          "output_type": "execute_result",
          "data": {
            "text/plain": [
              "   age     bmi  children     sex smoker  southwest  southeast  northwest  \\\n",
              "0   19  27.900         0  female    yes        0.0        0.0        0.0   \n",
              "1   18  33.770         1    male     no        0.0        0.0        1.0   \n",
              "2   28  33.000         3    male     no        0.0        0.0        1.0   \n",
              "3   33  22.705         0    male     no        0.0        1.0        0.0   \n",
              "4   32  28.880         0    male     no        0.0        1.0        0.0   \n",
              "\n",
              "   northeast      charges  \n",
              "0        1.0  16884.92400  \n",
              "1        0.0   1725.55230  \n",
              "2        0.0   4449.46200  \n",
              "3        0.0  21984.47061  \n",
              "4        0.0   3866.85520  "
            ],
            "text/html": [
              "\n",
              "  <div id=\"df-bdc1ec78-e081-43a2-91d4-e351f8e4bc2c\">\n",
              "    <div class=\"colab-df-container\">\n",
              "      <div>\n",
              "<style scoped>\n",
              "    .dataframe tbody tr th:only-of-type {\n",
              "        vertical-align: middle;\n",
              "    }\n",
              "\n",
              "    .dataframe tbody tr th {\n",
              "        vertical-align: top;\n",
              "    }\n",
              "\n",
              "    .dataframe thead th {\n",
              "        text-align: right;\n",
              "    }\n",
              "</style>\n",
              "<table border=\"1\" class=\"dataframe\">\n",
              "  <thead>\n",
              "    <tr style=\"text-align: right;\">\n",
              "      <th></th>\n",
              "      <th>age</th>\n",
              "      <th>bmi</th>\n",
              "      <th>children</th>\n",
              "      <th>sex</th>\n",
              "      <th>smoker</th>\n",
              "      <th>southwest</th>\n",
              "      <th>southeast</th>\n",
              "      <th>northwest</th>\n",
              "      <th>northeast</th>\n",
              "      <th>charges</th>\n",
              "    </tr>\n",
              "  </thead>\n",
              "  <tbody>\n",
              "    <tr>\n",
              "      <th>0</th>\n",
              "      <td>19</td>\n",
              "      <td>27.900</td>\n",
              "      <td>0</td>\n",
              "      <td>female</td>\n",
              "      <td>yes</td>\n",
              "      <td>0.0</td>\n",
              "      <td>0.0</td>\n",
              "      <td>0.0</td>\n",
              "      <td>1.0</td>\n",
              "      <td>16884.92400</td>\n",
              "    </tr>\n",
              "    <tr>\n",
              "      <th>1</th>\n",
              "      <td>18</td>\n",
              "      <td>33.770</td>\n",
              "      <td>1</td>\n",
              "      <td>male</td>\n",
              "      <td>no</td>\n",
              "      <td>0.0</td>\n",
              "      <td>0.0</td>\n",
              "      <td>1.0</td>\n",
              "      <td>0.0</td>\n",
              "      <td>1725.55230</td>\n",
              "    </tr>\n",
              "    <tr>\n",
              "      <th>2</th>\n",
              "      <td>28</td>\n",
              "      <td>33.000</td>\n",
              "      <td>3</td>\n",
              "      <td>male</td>\n",
              "      <td>no</td>\n",
              "      <td>0.0</td>\n",
              "      <td>0.0</td>\n",
              "      <td>1.0</td>\n",
              "      <td>0.0</td>\n",
              "      <td>4449.46200</td>\n",
              "    </tr>\n",
              "    <tr>\n",
              "      <th>3</th>\n",
              "      <td>33</td>\n",
              "      <td>22.705</td>\n",
              "      <td>0</td>\n",
              "      <td>male</td>\n",
              "      <td>no</td>\n",
              "      <td>0.0</td>\n",
              "      <td>1.0</td>\n",
              "      <td>0.0</td>\n",
              "      <td>0.0</td>\n",
              "      <td>21984.47061</td>\n",
              "    </tr>\n",
              "    <tr>\n",
              "      <th>4</th>\n",
              "      <td>32</td>\n",
              "      <td>28.880</td>\n",
              "      <td>0</td>\n",
              "      <td>male</td>\n",
              "      <td>no</td>\n",
              "      <td>0.0</td>\n",
              "      <td>1.0</td>\n",
              "      <td>0.0</td>\n",
              "      <td>0.0</td>\n",
              "      <td>3866.85520</td>\n",
              "    </tr>\n",
              "  </tbody>\n",
              "</table>\n",
              "</div>\n",
              "      <button class=\"colab-df-convert\" onclick=\"convertToInteractive('df-bdc1ec78-e081-43a2-91d4-e351f8e4bc2c')\"\n",
              "              title=\"Convert this dataframe to an interactive table.\"\n",
              "              style=\"display:none;\">\n",
              "        \n",
              "  <svg xmlns=\"http://www.w3.org/2000/svg\" height=\"24px\"viewBox=\"0 0 24 24\"\n",
              "       width=\"24px\">\n",
              "    <path d=\"M0 0h24v24H0V0z\" fill=\"none\"/>\n",
              "    <path d=\"M18.56 5.44l.94 2.06.94-2.06 2.06-.94-2.06-.94-.94-2.06-.94 2.06-2.06.94zm-11 1L8.5 8.5l.94-2.06 2.06-.94-2.06-.94L8.5 2.5l-.94 2.06-2.06.94zm10 10l.94 2.06.94-2.06 2.06-.94-2.06-.94-.94-2.06-.94 2.06-2.06.94z\"/><path d=\"M17.41 7.96l-1.37-1.37c-.4-.4-.92-.59-1.43-.59-.52 0-1.04.2-1.43.59L10.3 9.45l-7.72 7.72c-.78.78-.78 2.05 0 2.83L4 21.41c.39.39.9.59 1.41.59.51 0 1.02-.2 1.41-.59l7.78-7.78 2.81-2.81c.8-.78.8-2.07 0-2.86zM5.41 20L4 18.59l7.72-7.72 1.47 1.35L5.41 20z\"/>\n",
              "  </svg>\n",
              "      </button>\n",
              "      \n",
              "  <style>\n",
              "    .colab-df-container {\n",
              "      display:flex;\n",
              "      flex-wrap:wrap;\n",
              "      gap: 12px;\n",
              "    }\n",
              "\n",
              "    .colab-df-convert {\n",
              "      background-color: #E8F0FE;\n",
              "      border: none;\n",
              "      border-radius: 50%;\n",
              "      cursor: pointer;\n",
              "      display: none;\n",
              "      fill: #1967D2;\n",
              "      height: 32px;\n",
              "      padding: 0 0 0 0;\n",
              "      width: 32px;\n",
              "    }\n",
              "\n",
              "    .colab-df-convert:hover {\n",
              "      background-color: #E2EBFA;\n",
              "      box-shadow: 0px 1px 2px rgba(60, 64, 67, 0.3), 0px 1px 3px 1px rgba(60, 64, 67, 0.15);\n",
              "      fill: #174EA6;\n",
              "    }\n",
              "\n",
              "    [theme=dark] .colab-df-convert {\n",
              "      background-color: #3B4455;\n",
              "      fill: #D2E3FC;\n",
              "    }\n",
              "\n",
              "    [theme=dark] .colab-df-convert:hover {\n",
              "      background-color: #434B5C;\n",
              "      box-shadow: 0px 1px 3px 1px rgba(0, 0, 0, 0.15);\n",
              "      filter: drop-shadow(0px 1px 2px rgba(0, 0, 0, 0.3));\n",
              "      fill: #FFFFFF;\n",
              "    }\n",
              "  </style>\n",
              "\n",
              "      <script>\n",
              "        const buttonEl =\n",
              "          document.querySelector('#df-bdc1ec78-e081-43a2-91d4-e351f8e4bc2c button.colab-df-convert');\n",
              "        buttonEl.style.display =\n",
              "          google.colab.kernel.accessAllowed ? 'block' : 'none';\n",
              "\n",
              "        async function convertToInteractive(key) {\n",
              "          const element = document.querySelector('#df-bdc1ec78-e081-43a2-91d4-e351f8e4bc2c');\n",
              "          const dataTable =\n",
              "            await google.colab.kernel.invokeFunction('convertToInteractive',\n",
              "                                                     [key], {});\n",
              "          if (!dataTable) return;\n",
              "\n",
              "          const docLinkHtml = 'Like what you see? Visit the ' +\n",
              "            '<a target=\"_blank\" href=https://colab.research.google.com/notebooks/data_table.ipynb>data table notebook</a>'\n",
              "            + ' to learn more about interactive tables.';\n",
              "          element.innerHTML = '';\n",
              "          dataTable['output_type'] = 'display_data';\n",
              "          await google.colab.output.renderOutput(dataTable, element);\n",
              "          const docLink = document.createElement('div');\n",
              "          docLink.innerHTML = docLinkHtml;\n",
              "          element.appendChild(docLink);\n",
              "        }\n",
              "      </script>\n",
              "    </div>\n",
              "  </div>\n",
              "  "
            ]
          },
          "metadata": {},
          "execution_count": 33
        }
      ],
      "source": [
        "# Cahnge the column names of the one hot encoded columns\n",
        "df.columns = ['age', 'bmi', 'children', 'sex', 'smoker',\"southwest\",\"southeast\",\"northwest\",\"northeast\",'charges']\n",
        "df.head()"
      ]
    },
    {
      "cell_type": "code",
      "execution_count": 34,
      "metadata": {
        "colab": {
          "base_uri": "https://localhost:8080/",
          "height": 0
        },
        "id": "iVT33SkXE4ni",
        "outputId": "63741750-d55f-4953-c4f3-4c67ef46ab77"
      },
      "outputs": [
        {
          "output_type": "execute_result",
          "data": {
            "text/plain": [
              "      age     bmi  children  sex  smoker  southwest  southeast  northwest  \\\n",
              "0      19  27.900         0    0       1        0.0        0.0        0.0   \n",
              "1      18  33.770         1    1       0        0.0        0.0        1.0   \n",
              "2      28  33.000         3    1       0        0.0        0.0        1.0   \n",
              "3      33  22.705         0    1       0        0.0        1.0        0.0   \n",
              "4      32  28.880         0    1       0        0.0        1.0        0.0   \n",
              "...   ...     ...       ...  ...     ...        ...        ...        ...   \n",
              "1333   50  30.970         3    1       0        0.0        1.0        0.0   \n",
              "1334   18  31.920         0    0       0        1.0        0.0        0.0   \n",
              "1335   18  36.850         0    0       0        0.0        0.0        1.0   \n",
              "1336   21  25.800         0    0       0        0.0        0.0        0.0   \n",
              "1337   61  29.070         0    0       1        0.0        1.0        0.0   \n",
              "\n",
              "      northeast      charges  \n",
              "0           1.0  16884.92400  \n",
              "1           0.0   1725.55230  \n",
              "2           0.0   4449.46200  \n",
              "3           0.0  21984.47061  \n",
              "4           0.0   3866.85520  \n",
              "...         ...          ...  \n",
              "1333        0.0  10600.54830  \n",
              "1334        0.0   2205.98080  \n",
              "1335        0.0   1629.83350  \n",
              "1336        1.0   2007.94500  \n",
              "1337        0.0  29141.36030  \n",
              "\n",
              "[1338 rows x 10 columns]"
            ],
            "text/html": [
              "\n",
              "  <div id=\"df-fd9f68cc-b831-41cf-9bda-7b4b974e358f\">\n",
              "    <div class=\"colab-df-container\">\n",
              "      <div>\n",
              "<style scoped>\n",
              "    .dataframe tbody tr th:only-of-type {\n",
              "        vertical-align: middle;\n",
              "    }\n",
              "\n",
              "    .dataframe tbody tr th {\n",
              "        vertical-align: top;\n",
              "    }\n",
              "\n",
              "    .dataframe thead th {\n",
              "        text-align: right;\n",
              "    }\n",
              "</style>\n",
              "<table border=\"1\" class=\"dataframe\">\n",
              "  <thead>\n",
              "    <tr style=\"text-align: right;\">\n",
              "      <th></th>\n",
              "      <th>age</th>\n",
              "      <th>bmi</th>\n",
              "      <th>children</th>\n",
              "      <th>sex</th>\n",
              "      <th>smoker</th>\n",
              "      <th>southwest</th>\n",
              "      <th>southeast</th>\n",
              "      <th>northwest</th>\n",
              "      <th>northeast</th>\n",
              "      <th>charges</th>\n",
              "    </tr>\n",
              "  </thead>\n",
              "  <tbody>\n",
              "    <tr>\n",
              "      <th>0</th>\n",
              "      <td>19</td>\n",
              "      <td>27.900</td>\n",
              "      <td>0</td>\n",
              "      <td>0</td>\n",
              "      <td>1</td>\n",
              "      <td>0.0</td>\n",
              "      <td>0.0</td>\n",
              "      <td>0.0</td>\n",
              "      <td>1.0</td>\n",
              "      <td>16884.92400</td>\n",
              "    </tr>\n",
              "    <tr>\n",
              "      <th>1</th>\n",
              "      <td>18</td>\n",
              "      <td>33.770</td>\n",
              "      <td>1</td>\n",
              "      <td>1</td>\n",
              "      <td>0</td>\n",
              "      <td>0.0</td>\n",
              "      <td>0.0</td>\n",
              "      <td>1.0</td>\n",
              "      <td>0.0</td>\n",
              "      <td>1725.55230</td>\n",
              "    </tr>\n",
              "    <tr>\n",
              "      <th>2</th>\n",
              "      <td>28</td>\n",
              "      <td>33.000</td>\n",
              "      <td>3</td>\n",
              "      <td>1</td>\n",
              "      <td>0</td>\n",
              "      <td>0.0</td>\n",
              "      <td>0.0</td>\n",
              "      <td>1.0</td>\n",
              "      <td>0.0</td>\n",
              "      <td>4449.46200</td>\n",
              "    </tr>\n",
              "    <tr>\n",
              "      <th>3</th>\n",
              "      <td>33</td>\n",
              "      <td>22.705</td>\n",
              "      <td>0</td>\n",
              "      <td>1</td>\n",
              "      <td>0</td>\n",
              "      <td>0.0</td>\n",
              "      <td>1.0</td>\n",
              "      <td>0.0</td>\n",
              "      <td>0.0</td>\n",
              "      <td>21984.47061</td>\n",
              "    </tr>\n",
              "    <tr>\n",
              "      <th>4</th>\n",
              "      <td>32</td>\n",
              "      <td>28.880</td>\n",
              "      <td>0</td>\n",
              "      <td>1</td>\n",
              "      <td>0</td>\n",
              "      <td>0.0</td>\n",
              "      <td>1.0</td>\n",
              "      <td>0.0</td>\n",
              "      <td>0.0</td>\n",
              "      <td>3866.85520</td>\n",
              "    </tr>\n",
              "    <tr>\n",
              "      <th>...</th>\n",
              "      <td>...</td>\n",
              "      <td>...</td>\n",
              "      <td>...</td>\n",
              "      <td>...</td>\n",
              "      <td>...</td>\n",
              "      <td>...</td>\n",
              "      <td>...</td>\n",
              "      <td>...</td>\n",
              "      <td>...</td>\n",
              "      <td>...</td>\n",
              "    </tr>\n",
              "    <tr>\n",
              "      <th>1333</th>\n",
              "      <td>50</td>\n",
              "      <td>30.970</td>\n",
              "      <td>3</td>\n",
              "      <td>1</td>\n",
              "      <td>0</td>\n",
              "      <td>0.0</td>\n",
              "      <td>1.0</td>\n",
              "      <td>0.0</td>\n",
              "      <td>0.0</td>\n",
              "      <td>10600.54830</td>\n",
              "    </tr>\n",
              "    <tr>\n",
              "      <th>1334</th>\n",
              "      <td>18</td>\n",
              "      <td>31.920</td>\n",
              "      <td>0</td>\n",
              "      <td>0</td>\n",
              "      <td>0</td>\n",
              "      <td>1.0</td>\n",
              "      <td>0.0</td>\n",
              "      <td>0.0</td>\n",
              "      <td>0.0</td>\n",
              "      <td>2205.98080</td>\n",
              "    </tr>\n",
              "    <tr>\n",
              "      <th>1335</th>\n",
              "      <td>18</td>\n",
              "      <td>36.850</td>\n",
              "      <td>0</td>\n",
              "      <td>0</td>\n",
              "      <td>0</td>\n",
              "      <td>0.0</td>\n",
              "      <td>0.0</td>\n",
              "      <td>1.0</td>\n",
              "      <td>0.0</td>\n",
              "      <td>1629.83350</td>\n",
              "    </tr>\n",
              "    <tr>\n",
              "      <th>1336</th>\n",
              "      <td>21</td>\n",
              "      <td>25.800</td>\n",
              "      <td>0</td>\n",
              "      <td>0</td>\n",
              "      <td>0</td>\n",
              "      <td>0.0</td>\n",
              "      <td>0.0</td>\n",
              "      <td>0.0</td>\n",
              "      <td>1.0</td>\n",
              "      <td>2007.94500</td>\n",
              "    </tr>\n",
              "    <tr>\n",
              "      <th>1337</th>\n",
              "      <td>61</td>\n",
              "      <td>29.070</td>\n",
              "      <td>0</td>\n",
              "      <td>0</td>\n",
              "      <td>1</td>\n",
              "      <td>0.0</td>\n",
              "      <td>1.0</td>\n",
              "      <td>0.0</td>\n",
              "      <td>0.0</td>\n",
              "      <td>29141.36030</td>\n",
              "    </tr>\n",
              "  </tbody>\n",
              "</table>\n",
              "<p>1338 rows × 10 columns</p>\n",
              "</div>\n",
              "      <button class=\"colab-df-convert\" onclick=\"convertToInteractive('df-fd9f68cc-b831-41cf-9bda-7b4b974e358f')\"\n",
              "              title=\"Convert this dataframe to an interactive table.\"\n",
              "              style=\"display:none;\">\n",
              "        \n",
              "  <svg xmlns=\"http://www.w3.org/2000/svg\" height=\"24px\"viewBox=\"0 0 24 24\"\n",
              "       width=\"24px\">\n",
              "    <path d=\"M0 0h24v24H0V0z\" fill=\"none\"/>\n",
              "    <path d=\"M18.56 5.44l.94 2.06.94-2.06 2.06-.94-2.06-.94-.94-2.06-.94 2.06-2.06.94zm-11 1L8.5 8.5l.94-2.06 2.06-.94-2.06-.94L8.5 2.5l-.94 2.06-2.06.94zm10 10l.94 2.06.94-2.06 2.06-.94-2.06-.94-.94-2.06-.94 2.06-2.06.94z\"/><path d=\"M17.41 7.96l-1.37-1.37c-.4-.4-.92-.59-1.43-.59-.52 0-1.04.2-1.43.59L10.3 9.45l-7.72 7.72c-.78.78-.78 2.05 0 2.83L4 21.41c.39.39.9.59 1.41.59.51 0 1.02-.2 1.41-.59l7.78-7.78 2.81-2.81c.8-.78.8-2.07 0-2.86zM5.41 20L4 18.59l7.72-7.72 1.47 1.35L5.41 20z\"/>\n",
              "  </svg>\n",
              "      </button>\n",
              "      \n",
              "  <style>\n",
              "    .colab-df-container {\n",
              "      display:flex;\n",
              "      flex-wrap:wrap;\n",
              "      gap: 12px;\n",
              "    }\n",
              "\n",
              "    .colab-df-convert {\n",
              "      background-color: #E8F0FE;\n",
              "      border: none;\n",
              "      border-radius: 50%;\n",
              "      cursor: pointer;\n",
              "      display: none;\n",
              "      fill: #1967D2;\n",
              "      height: 32px;\n",
              "      padding: 0 0 0 0;\n",
              "      width: 32px;\n",
              "    }\n",
              "\n",
              "    .colab-df-convert:hover {\n",
              "      background-color: #E2EBFA;\n",
              "      box-shadow: 0px 1px 2px rgba(60, 64, 67, 0.3), 0px 1px 3px 1px rgba(60, 64, 67, 0.15);\n",
              "      fill: #174EA6;\n",
              "    }\n",
              "\n",
              "    [theme=dark] .colab-df-convert {\n",
              "      background-color: #3B4455;\n",
              "      fill: #D2E3FC;\n",
              "    }\n",
              "\n",
              "    [theme=dark] .colab-df-convert:hover {\n",
              "      background-color: #434B5C;\n",
              "      box-shadow: 0px 1px 3px 1px rgba(0, 0, 0, 0.15);\n",
              "      filter: drop-shadow(0px 1px 2px rgba(0, 0, 0, 0.3));\n",
              "      fill: #FFFFFF;\n",
              "    }\n",
              "  </style>\n",
              "\n",
              "      <script>\n",
              "        const buttonEl =\n",
              "          document.querySelector('#df-fd9f68cc-b831-41cf-9bda-7b4b974e358f button.colab-df-convert');\n",
              "        buttonEl.style.display =\n",
              "          google.colab.kernel.accessAllowed ? 'block' : 'none';\n",
              "\n",
              "        async function convertToInteractive(key) {\n",
              "          const element = document.querySelector('#df-fd9f68cc-b831-41cf-9bda-7b4b974e358f');\n",
              "          const dataTable =\n",
              "            await google.colab.kernel.invokeFunction('convertToInteractive',\n",
              "                                                     [key], {});\n",
              "          if (!dataTable) return;\n",
              "\n",
              "          const docLinkHtml = 'Like what you see? Visit the ' +\n",
              "            '<a target=\"_blank\" href=https://colab.research.google.com/notebooks/data_table.ipynb>data table notebook</a>'\n",
              "            + ' to learn more about interactive tables.';\n",
              "          element.innerHTML = '';\n",
              "          dataTable['output_type'] = 'display_data';\n",
              "          await google.colab.output.renderOutput(dataTable, element);\n",
              "          const docLink = document.createElement('div');\n",
              "          docLink.innerHTML = docLinkHtml;\n",
              "          element.appendChild(docLink);\n",
              "        }\n",
              "      </script>\n",
              "    </div>\n",
              "  </div>\n",
              "  "
            ]
          },
          "metadata": {},
          "execution_count": 34
        }
      ],
      "source": [
        "#Label encode the \"sex\" and \"smoke\" columns\n",
        "from sklearn import preprocessing\n",
        "le = preprocessing.LabelEncoder()\n",
        "df['sex'] = le.fit_transform(df.sex.values)\n",
        "df['smoker'] = le.fit_transform(df.smoker.values)\n",
        "df"
      ]
    },
    {
      "cell_type": "markdown",
      "metadata": {
        "id": "8orkNE60E4ni"
      },
      "source": [
        "### SPLITTING THE DATASET"
      ]
    },
    {
      "cell_type": "code",
      "execution_count": 35,
      "metadata": {
        "id": "oWG0zUTFE4ni"
      },
      "outputs": [],
      "source": [
        "# Splitting the Dataset\n",
        "X = df.iloc[:, :-1].values\n",
        "y = df.iloc[:, -1].values.reshape(-1,1)"
      ]
    },
    {
      "cell_type": "code",
      "execution_count": 36,
      "metadata": {
        "colab": {
          "base_uri": "https://localhost:8080/"
        },
        "id": "a5_hwt5zE4ni",
        "outputId": "877e7e09-5230-4a82-927f-3f6dae405481"
      },
      "outputs": [
        {
          "output_type": "stream",
          "name": "stdout",
          "text": [
            "[[19.   27.9   0.   ...  0.    0.    1.  ]\n",
            " [18.   33.77  1.   ...  0.    1.    0.  ]\n",
            " [28.   33.    3.   ...  0.    1.    0.  ]\n",
            " ...\n",
            " [18.   36.85  0.   ...  0.    1.    0.  ]\n",
            " [21.   25.8   0.   ...  0.    0.    1.  ]\n",
            " [61.   29.07  0.   ...  1.    0.    0.  ]]\n"
          ]
        }
      ],
      "source": [
        "print(X)"
      ]
    },
    {
      "cell_type": "code",
      "execution_count": 37,
      "metadata": {
        "colab": {
          "base_uri": "https://localhost:8080/"
        },
        "id": "W-CghM9GE4nj",
        "outputId": "8202d85d-3494-4da9-bdc4-8ef56f1575cc"
      },
      "outputs": [
        {
          "output_type": "stream",
          "name": "stdout",
          "text": [
            "[[16884.924 ]\n",
            " [ 1725.5523]\n",
            " [ 4449.462 ]\n",
            " ...\n",
            " [ 1629.8335]\n",
            " [ 2007.945 ]\n",
            " [29141.3603]]\n"
          ]
        }
      ],
      "source": [
        "print(y)"
      ]
    },
    {
      "cell_type": "markdown",
      "metadata": {
        "id": "I2YtvWKjE4nj"
      },
      "source": [
        "### SPLITTING AS X_train, X_test, y_train, y_test"
      ]
    },
    {
      "cell_type": "code",
      "execution_count": 38,
      "metadata": {
        "id": "Wo0fefWEE4nj"
      },
      "outputs": [],
      "source": [
        "from sklearn.model_selection import train_test_split\n",
        "X_train, X_test, y_train, y_test = train_test_split(X, y, test_size = 0.2, random_state = 1)"
      ]
    },
    {
      "cell_type": "code",
      "execution_count": 39,
      "metadata": {
        "colab": {
          "base_uri": "https://localhost:8080/"
        },
        "id": "f7lEunZwE4nj",
        "outputId": "032131d3-fdc6-42ef-b52a-bafe7cf01412"
      },
      "outputs": [
        {
          "output_type": "stream",
          "name": "stdout",
          "text": [
            "[[53.   26.6   0.   ...  1.    0.    0.  ]\n",
            " [53.   21.4   1.   ...  0.    0.    1.  ]\n",
            " [18.   37.29  0.   ...  0.    1.    0.  ]\n",
            " ...\n",
            " [51.   34.96  2.   ...  0.    0.    0.  ]\n",
            " [40.   22.22  2.   ...  0.    1.    0.  ]\n",
            " [57.   27.94  1.   ...  0.    1.    0.  ]]\n"
          ]
        }
      ],
      "source": [
        "print(X_train)"
      ]
    },
    {
      "cell_type": "code",
      "execution_count": 40,
      "metadata": {
        "colab": {
          "base_uri": "https://localhost:8080/"
        },
        "id": "7aP2HwbNE4nj",
        "outputId": "4a454d8a-a366-4b93-c137-03e53d0c7f84"
      },
      "outputs": [
        {
          "output_type": "stream",
          "name": "stdout",
          "text": [
            "[[19.    35.53   0.    ...  1.     0.     0.   ]\n",
            " [57.    31.54   0.    ...  1.     0.     0.   ]\n",
            " [51.    37.     0.    ...  0.     0.     1.   ]\n",
            " ...\n",
            " [47.    38.94   2.    ...  0.     1.     0.   ]\n",
            " [19.    36.575  0.    ...  1.     0.     0.   ]\n",
            " [35.    26.125  0.    ...  0.     0.     0.   ]]\n"
          ]
        }
      ],
      "source": [
        "print(X_test)"
      ]
    },
    {
      "cell_type": "code",
      "execution_count": 41,
      "metadata": {
        "colab": {
          "base_uri": "https://localhost:8080/"
        },
        "id": "rNLRoGDSE4nk",
        "outputId": "65127ecc-a3ed-4bc9-8a5a-084977d64a9e"
      },
      "outputs": [
        {
          "output_type": "stream",
          "name": "stdout",
          "text": [
            "[[10355.641    ]\n",
            " [10065.413    ]\n",
            " [ 1141.4451   ]\n",
            " ...\n",
            " [34489.3505625]\n",
            " [19444.2658   ]\n",
            " [11554.2236   ]]\n"
          ]
        }
      ],
      "source": [
        "print(y_train)"
      ]
    },
    {
      "cell_type": "code",
      "execution_count": 42,
      "metadata": {
        "colab": {
          "base_uri": "https://localhost:8080/"
        },
        "id": "QZJy1r37E4nk",
        "outputId": "614102d5-9bc7-4bb3-855e-2458f152aa3f"
      },
      "outputs": [
        {
          "output_type": "stream",
          "name": "stdout",
          "text": [
            "[[ 1646.4297   ]\n",
            " [11353.2276   ]\n",
            " [ 8798.593    ]\n",
            " [10381.4787   ]\n",
            " [ 2103.08     ]\n",
            " [34489.3505625]\n",
            " [ 9304.7019   ]\n",
            " [11658.11505  ]\n",
            " [ 3070.8087   ]\n",
            " [19539.243    ]\n",
            " [12629.8967   ]\n",
            " [11538.421    ]\n",
            " [ 6338.0756   ]\n",
            " [ 7050.642    ]\n",
            " [ 1137.4697   ]\n",
            " [ 8968.33     ]\n",
            " [21984.47061  ]\n",
            " [ 6414.178    ]\n",
            " [28287.89766  ]\n",
            " [13462.52     ]\n",
            " [ 9722.7695   ]\n",
            " [34489.3505625]\n",
            " [ 8026.6666   ]\n",
            " [ 8444.474    ]\n",
            " [ 2203.47185  ]\n",
            " [ 6664.68595  ]\n",
            " [ 8606.2174   ]\n",
            " [ 8283.6807   ]\n",
            " [ 5375.038    ]\n",
            " [ 3645.0894   ]\n",
            " [11674.13     ]\n",
            " [11737.84884  ]\n",
            " [24873.3849   ]\n",
            " [33750.2918   ]\n",
            " [24180.9335   ]\n",
            " [ 9863.4718   ]\n",
            " [34489.3505625]\n",
            " [17942.106    ]\n",
            " [11856.4115   ]\n",
            " [34489.3505625]\n",
            " [ 4349.462    ]\n",
            " [11743.9341   ]\n",
            " [19749.38338  ]\n",
            " [12347.172    ]\n",
            " [ 4931.647    ]\n",
            " [30259.99556  ]\n",
            " [27724.28875  ]\n",
            " [34489.3505625]\n",
            " [ 9644.2525   ]\n",
            " [14394.39815  ]\n",
            " [12557.6053   ]\n",
            " [11881.358    ]\n",
            " [ 2352.96845  ]\n",
            " [ 9101.798    ]\n",
            " [17178.6824   ]\n",
            " [ 3994.1778   ]\n",
            " [34489.3505625]\n",
            " [12644.589    ]\n",
            " [22395.74424  ]\n",
            " [ 1149.3959   ]\n",
            " [ 3366.6697   ]\n",
            " [13143.33665  ]\n",
            " [18328.2381   ]\n",
            " [ 2690.1138   ]\n",
            " [12741.16745  ]\n",
            " [ 8765.249    ]\n",
            " [10264.4421   ]\n",
            " [22192.43711  ]\n",
            " [ 2709.24395  ]\n",
            " [14571.8908   ]\n",
            " [34489.3505625]\n",
            " [34489.3505625]\n",
            " [ 1743.214    ]\n",
            " [12479.70895  ]\n",
            " [13352.0998   ]\n",
            " [34489.3505625]\n",
            " [ 2789.0574   ]\n",
            " [ 2867.1196   ]\n",
            " [11070.535    ]\n",
            " [10493.9458   ]\n",
            " [ 3167.45585  ]\n",
            " [12269.68865  ]\n",
            " [10942.13205  ]\n",
            " [ 1977.815    ]\n",
            " [34489.3505625]\n",
            " [34489.3505625]\n",
            " [ 7045.499    ]\n",
            " [34489.3505625]\n",
            " [10370.91255  ]\n",
            " [ 7749.1564   ]\n",
            " [20234.85475  ]\n",
            " [24106.91255  ]\n",
            " [13919.8229   ]\n",
            " [ 8871.1517   ]\n",
            " [ 1628.4709   ]\n",
            " [ 9487.6442   ]\n",
            " [ 9861.025    ]\n",
            " [12265.5069   ]\n",
            " [12235.8392   ]\n",
            " [ 6402.29135  ]\n",
            " [11356.6609   ]\n",
            " [15817.9857   ]\n",
            " [18259.216    ]\n",
            " [34489.3505625]\n",
            " [27037.9141   ]\n",
            " [18033.9679   ]\n",
            " [ 1737.376    ]\n",
            " [ 7441.053    ]\n",
            " [ 2219.4451   ]\n",
            " [11286.5387   ]\n",
            " [ 4415.1588   ]\n",
            " [ 3981.9768   ]\n",
            " [ 1632.03625  ]\n",
            " [15555.18875  ]\n",
            " [12609.88702  ]\n",
            " [ 1253.936    ]\n",
            " [ 6666.243    ]\n",
            " [14254.6082   ]\n",
            " [19496.71917  ]\n",
            " [ 2261.5688   ]\n",
            " [ 8932.084    ]\n",
            " [10736.87075  ]\n",
            " [ 5976.8311   ]\n",
            " [ 7147.105    ]\n",
            " [34489.3505625]\n",
            " [ 9563.029    ]\n",
            " [13047.33235  ]\n",
            " [19361.9988   ]\n",
            " [34489.3505625]\n",
            " [ 7740.337    ]\n",
            " [34489.3505625]\n",
            " [ 1832.094    ]\n",
            " [ 7144.86265  ]\n",
            " [34489.3505625]\n",
            " [24603.04837  ]\n",
            " [ 1731.677    ]\n",
            " [ 1632.56445  ]\n",
            " [ 1631.8212   ]\n",
            " [ 9991.03765  ]\n",
            " [ 7935.29115  ]\n",
            " [14043.4767   ]\n",
            " [ 5934.3798   ]\n",
            " [18972.495    ]\n",
            " [14313.8463   ]\n",
            " [13607.36875  ]\n",
            " [10594.50155  ]\n",
            " [ 1719.4363   ]\n",
            " [ 7954.517    ]\n",
            " [ 1727.54     ]\n",
            " [ 6686.4313   ]\n",
            " [ 7152.6714   ]\n",
            " [ 3877.30425  ]\n",
            " [33471.97189  ]\n",
            " [11879.10405  ]\n",
            " [ 7804.1605   ]\n",
            " [ 5969.723    ]\n",
            " [ 9964.06     ]\n",
            " [ 9957.7216   ]\n",
            " [ 9447.3824   ]\n",
            " [ 1826.843    ]\n",
            " [ 3704.3545   ]\n",
            " [34489.3505625]\n",
            " [11946.6259   ]\n",
            " [ 2904.088    ]\n",
            " [ 6128.79745  ]\n",
            " [ 1534.3045   ]\n",
            " [34489.3505625]\n",
            " [10436.096    ]\n",
            " [11073.176    ]\n",
            " [ 5469.0066   ]\n",
            " [ 5152.134    ]\n",
            " [ 3556.9223   ]\n",
            " [22412.6485   ]\n",
            " [25678.77845  ]\n",
            " [ 3353.4703   ]\n",
            " [ 6555.07035  ]\n",
            " [ 2416.955    ]\n",
            " [14590.63205  ]\n",
            " [ 3732.6251   ]\n",
            " [ 5846.9176   ]\n",
            " [12730.9996   ]\n",
            " [13616.3586   ]\n",
            " [ 8988.15875  ]\n",
            " [ 7650.77375  ]\n",
            " [ 3594.17085  ]\n",
            " [18246.4955   ]\n",
            " [ 2155.6815   ]\n",
            " [ 8569.8618   ]\n",
            " [ 7526.70645  ]\n",
            " [ 9222.4026   ]\n",
            " [14119.62     ]\n",
            " [34489.3505625]\n",
            " [ 3260.199    ]\n",
            " [ 2709.1119   ]\n",
            " [ 6933.24225  ]\n",
            " [ 9264.797    ]\n",
            " [ 7243.8136   ]\n",
            " [ 2134.9015   ]\n",
            " [11520.09985  ]\n",
            " [ 8233.0975   ]\n",
            " [ 6289.7549   ]\n",
            " [ 7371.772    ]\n",
            " [12094.478    ]\n",
            " [23563.01618  ]\n",
            " [ 6457.8434   ]\n",
            " [ 1615.7667   ]\n",
            " [ 6600.20595  ]\n",
            " [ 7046.7222   ]\n",
            " [ 1984.4533   ]\n",
            " [11455.28     ]\n",
            " [ 4137.5227   ]\n",
            " [23244.7902   ]\n",
            " [17128.42608  ]\n",
            " [ 3987.926    ]\n",
            " [ 4670.64     ]\n",
            " [34489.3505625]\n",
            " [10796.35025  ]\n",
            " [34489.3505625]\n",
            " [ 1136.3994   ]\n",
            " [34489.3505625]\n",
            " [ 2459.7201   ]\n",
            " [21195.818    ]\n",
            " [12268.63225  ]\n",
            " [ 4827.90495  ]\n",
            " [ 1635.73365  ]\n",
            " [ 1969.614    ]\n",
            " [ 4357.04365  ]\n",
            " [10795.93733  ]\n",
            " [17081.08     ]\n",
            " [13887.9685   ]\n",
            " [ 3579.8287   ]\n",
            " [14001.2867   ]\n",
            " [34489.3505625]\n",
            " [ 6753.038    ]\n",
            " [12096.6512   ]\n",
            " [10214.636    ]\n",
            " [17361.7661   ]\n",
            " [ 1639.5631   ]\n",
            " [ 8342.90875  ]\n",
            " [ 4074.4537   ]\n",
            " [ 8083.9198   ]\n",
            " [ 2026.9741   ]\n",
            " [31620.00106  ]\n",
            " [ 1981.5819   ]\n",
            " [20781.48892  ]\n",
            " [24869.8368   ]\n",
            " [18806.14547  ]\n",
            " [ 8551.347    ]\n",
            " [18218.16139  ]\n",
            " [14210.53595  ]\n",
            " [10959.6947   ]\n",
            " [ 4441.21315  ]\n",
            " [12142.5786   ]\n",
            " [10560.4917   ]\n",
            " [ 2897.3235   ]\n",
            " [ 2755.02095  ]\n",
            " [34489.3505625]\n",
            " [22331.5668   ]\n",
            " [ 1625.43375  ]\n",
            " [34489.3505625]\n",
            " [ 8219.2039   ]\n",
            " [ 6940.90985  ]\n",
            " [ 8240.5896   ]\n",
            " [34489.3505625]\n",
            " [34489.3505625]\n",
            " [34489.3505625]\n",
            " [ 2136.88225  ]\n",
            " [ 5227.98875  ]]\n"
          ]
        }
      ],
      "source": [
        "print(y_test)"
      ]
    },
    {
      "cell_type": "code",
      "execution_count": 43,
      "metadata": {
        "colab": {
          "base_uri": "https://localhost:8080/"
        },
        "id": "lUfAH_qbE4nk",
        "outputId": "af473b09-89cd-4cee-d0ba-541ad580b8fb"
      },
      "outputs": [
        {
          "output_type": "execute_result",
          "data": {
            "text/plain": [
              "array([[0.76086957, 0.3396106 , 0.        , ..., 1.        , 0.        ,\n",
              "        0.        ],\n",
              "       [0.76086957, 0.17363549, 0.2       , ..., 0.        , 0.        ,\n",
              "        1.        ],\n",
              "       [0.        , 0.68081711, 0.        , ..., 0.        , 1.        ,\n",
              "        0.        ],\n",
              "       ...,\n",
              "       [0.7173913 , 0.60644749, 0.4       , ..., 0.        , 0.        ,\n",
              "        0.        ],\n",
              "       [0.47826087, 0.19980849, 0.4       , ..., 0.        , 1.        ,\n",
              "        0.        ],\n",
              "       [0.84782609, 0.3823811 , 0.2       , ..., 0.        , 1.        ,\n",
              "        0.        ]])"
            ]
          },
          "metadata": {},
          "execution_count": 43
        }
      ],
      "source": [
        "from sklearn.preprocessing import MinMaxScaler\n",
        "scaler = MinMaxScaler()\n",
        "X_train_scaled = scaler.fit_transform(X_train)\n",
        "X_train_scaled"
      ]
    },
    {
      "cell_type": "code",
      "execution_count": 44,
      "metadata": {
        "colab": {
          "base_uri": "https://localhost:8080/"
        },
        "id": "RXGoiDOcE4nk",
        "outputId": "b5e7f28b-ddec-48c0-ea05-62a89c2931e1"
      },
      "outputs": [
        {
          "output_type": "execute_result",
          "data": {
            "text/plain": [
              "array([[0.02173913, 0.62464092, 0.        , ..., 1.        , 0.        ,\n",
              "        0.        ],\n",
              "       [0.84782609, 0.49728695, 0.        , ..., 1.        , 0.        ,\n",
              "        0.        ],\n",
              "       [0.7173913 , 0.6715608 , 0.        , ..., 0.        , 0.        ,\n",
              "        1.        ],\n",
              "       ...,\n",
              "       [0.63043478, 0.73348229, 0.4       , ..., 0.        , 1.        ,\n",
              "        0.        ],\n",
              "       [0.02173913, 0.65799553, 0.        , ..., 1.        , 0.        ,\n",
              "        0.        ],\n",
              "       [0.36956522, 0.32444941, 0.        , ..., 0.        , 0.        ,\n",
              "        0.        ]])"
            ]
          },
          "metadata": {},
          "execution_count": 44
        }
      ],
      "source": [
        "X_test_scaled = scaler.transform(X_test)\n",
        "X_test_scaled"
      ]
    },
    {
      "cell_type": "markdown",
      "metadata": {
        "id": "2TuzEXqJE4nk"
      },
      "source": [
        "#### CHOOSING A MODEL"
      ]
    },
    {
      "cell_type": "code",
      "execution_count": 45,
      "metadata": {
        "id": "LTwoA62iE4nk"
      },
      "outputs": [],
      "source": [
        "from sklearn.ensemble import RandomForestRegressor\n",
        "from sklearn.tree import DecisionTreeRegressor\n",
        "from sklearn.linear_model import LinearRegression\n",
        "from sklearn.linear_model import BayesianRidge\n",
        "from sklearn.ensemble import GradientBoostingRegressor\n",
        "from sklearn.linear_model import Ridge\n",
        "from sklearn.linear_model import Lasso"
      ]
    },
    {
      "cell_type": "code",
      "source": [
        "rf = RandomForestRegressor(n_estimators = 10, random_state = 0)\n",
        "dt = DecisionTreeRegressor(max_leaf_nodes = 10, random_state = 0)\n",
        "linr = LinearRegression()\n",
        "br = BayesianRidge(n_iter = 100)\n",
        "gbr = GradientBoostingRegressor(n_estimators = 10)\n",
        "rid = Ridge(alpha = 0.1, max_iter = 100000)\n",
        "las = Lasso(alpha = 1, max_iter = 100000)"
      ],
      "metadata": {
        "id": "vc9ZJSSXFxyI"
      },
      "execution_count": 46,
      "outputs": []
    },
    {
      "cell_type": "markdown",
      "source": [
        "Fitting Model"
      ],
      "metadata": {
        "id": "FzWSBwUhGCfa"
      }
    },
    {
      "cell_type": "code",
      "source": [
        "rf.fit(X_train_scaled, y_train)\n",
        "dt.fit(X_train_scaled, y_train)\n",
        "linr.fit(X_train_scaled, y_train)\n",
        "br.fit(X_train_scaled, y_train)\n",
        "gbr.fit(X_train_scaled, y_train)\n",
        "rid.fit(X_train_scaled, y_train)\n",
        "las.fit(X_train_scaled, y_train)"
      ],
      "metadata": {
        "colab": {
          "base_uri": "https://localhost:8080/"
        },
        "id": "ZEs7iD23GCIb",
        "outputId": "e1f3ac13-7e0e-457d-fcef-c32ea0e02654"
      },
      "execution_count": 47,
      "outputs": [
        {
          "output_type": "execute_result",
          "data": {
            "text/plain": [
              "Lasso(alpha=1, max_iter=100000)"
            ]
          },
          "metadata": {},
          "execution_count": 47
        }
      ]
    },
    {
      "cell_type": "markdown",
      "source": [
        "Predicting Model"
      ],
      "metadata": {
        "id": "SpWe_4ShHNDk"
      }
    },
    {
      "cell_type": "code",
      "source": [
        "rf_pred = rf.predict(X_test_scaled)\n",
        "dt_pred = dt.predict(X_test_scaled)\n",
        "linr_pred = linr.predict(X_test_scaled)\n",
        "br_pred = br.predict(X_test_scaled)\n",
        "gbr_pred = gbr.predict(X_test_scaled)\n",
        "rid_pred = rid.predict(X_test_scaled)\n",
        "las_pred = las.predict(X_test_scaled)"
      ],
      "metadata": {
        "id": "2Ue-F8LpHQRZ"
      },
      "execution_count": 48,
      "outputs": []
    },
    {
      "cell_type": "code",
      "source": [
        "pred_list = [rf_pred, dt_pred, linr_pred, br_pred, gbr_pred, rid_pred, las_pred]"
      ],
      "metadata": {
        "id": "BlE1uBJXM2tD"
      },
      "execution_count": 49,
      "outputs": []
    },
    {
      "cell_type": "markdown",
      "source": [
        "Model Scores"
      ],
      "metadata": {
        "id": "_mNGwJ9fH6Yh"
      }
    },
    {
      "cell_type": "code",
      "source": [
        "rf_sc = rf.score(X_test_scaled, y_test)\n",
        "dt_sc = dt.score(X_test_scaled, y_test)\n",
        "linr_sc = linr.score(X_test_scaled, y_test)\n",
        "br_sc = br.score(X_test_scaled, y_test)\n",
        "gbr_sc = gbr.score(X_test_scaled, y_test)\n",
        "rid_sc = rid.score(X_test_scaled, y_test)\n",
        "las_sc = las.score(X_test_scaled, y_test)\n",
        "\n",
        "\n",
        "\n",
        "score_result = [rf_sc, dt_sc, linr_sc, gbr_sc, br_sc, rid_sc, las_sc]"
      ],
      "metadata": {
        "id": "lFjMiV9rH9tR"
      },
      "execution_count": 50,
      "outputs": []
    },
    {
      "cell_type": "code",
      "source": [
        "predname_list=[\"Random Forest Regressor\",\"Decision Tree Regressor\",\"Linear Regression\",\"Bayesian Ridge\",\"Gradient Boosting Regressor\",\"Ridge\",\"Lasso\"]\n",
        "score_results = pd.DataFrame({\"Score Results\":score_result, \"ML Models\":predname_list})\n",
        "\n",
        "g = sns.barplot(\"Score Results\", \"ML Models\", data = score_results)\n",
        "g.set_xlabel(\"Mean Accuracy\")\n",
        "g.set_title(\"Score Results\")\n"
      ],
      "metadata": {
        "colab": {
          "base_uri": "https://localhost:8080/",
          "height": 312
        },
        "id": "CZyzcuRlI3Hx",
        "outputId": "342b7e39-5914-44f2-a7f3-22a38b82ed78"
      },
      "execution_count": 51,
      "outputs": [
        {
          "output_type": "execute_result",
          "data": {
            "text/plain": [
              "Text(0.5, 1.0, 'Score Results')"
            ]
          },
          "metadata": {},
          "execution_count": 51
        },
        {
          "output_type": "display_data",
          "data": {
            "text/plain": [
              "<Figure size 432x288 with 1 Axes>"
            ],
            "image/png": "[encoded data removed]"
          },
          "metadata": {
            "needs_background": "light"
          }
        }
      ]
    },
    {
      "cell_type": "code",
      "execution_count": 52,
      "metadata": {
        "id": "KBPDiMTOE4nl"
      },
      "outputs": [],
      "source": [
        "from sklearn.metrics import mean_absolute_error, mean_squared_error, r2_score\n",
        "\n",
        "def train_val(y_test, X_test):\n",
        "\n",
        "    print(\"mae:\",mean_absolute_error(y_test, X_test),\n",
        "    \"mse:\", mean_squared_error(y_test, X_test),\n",
        "    \"r2:\", r2_score(y_test, X_test))                      \n",
        "    \n",
        "    return train_val"
      ]
    },
    {
      "cell_type": "code",
      "execution_count": 53,
      "metadata": {
        "colab": {
          "base_uri": "https://localhost:8080/"
        },
        "id": "t2tpSnzGE4nl",
        "outputId": "8aa955c4-ce6b-45fb-de3b-f1024b098d78"
      },
      "outputs": [
        {
          "output_type": "stream",
          "name": "stdout",
          "text": [
            "Random Forest Regressor :\n",
            "mae: 2320.5862228565297 mse: 20405006.037775703 r2: 0.7981852789394042\n",
            "\n",
            "Decision Tree Regressor :\n",
            "mae: 2213.772778438702 mse: 17568118.8002549 r2: 0.8262433743626896\n",
            "\n",
            "Linear Regression :\n",
            "mae: 3158.2096893800144 mse: 24131186.020585086 r2: 0.7613316768154901\n",
            "\n",
            "Bayesian Ridge :\n",
            "mae: 3162.2841815636825 mse: 24137373.652256705 r2: 0.7612704783450008\n",
            "\n",
            "Gradient Boosting Regressor :\n",
            "mae: 3950.9487809951393 mse: 26615629.602017682 r2: 0.7367594082530906\n",
            "\n",
            "Ridge :\n",
            "mae: 3159.267111762194 mse: 24132701.329677362 r2: 0.7613166897245177\n",
            "\n",
            "Lasso :\n",
            "mae: 3158.765618856336 mse: 24133765.567672145 r2: 0.7613061639303248\n",
            "\n"
          ]
        }
      ],
      "source": [
        "for i in range(len(pred_list)):\n",
        "  print(predname_list[i],\":\")\n",
        "  train_val(y_test, pred_list[i])\n",
        "  print(\"\")"
      ]
    },
    {
      "cell_type": "code",
      "source": [
        "np.set_printoptions(precision=2)\n",
        "\n",
        "\n",
        "print(np.concatenate((dt_pred.reshape(len(dt_pred),1), y_test.reshape(len(y_test),1)),1))"
      ],
      "metadata": {
        "colab": {
          "base_uri": "https://localhost:8080/"
        },
        "id": "nOZ85zL5RjmE",
        "outputId": "a19ffc9e-ba80-42b5-8f9a-7f4d4e9bdfce"
      },
      "execution_count": 54,
      "outputs": [
        {
          "output_type": "stream",
          "name": "stdout",
          "text": [
            "[[ 3286.02  1646.43]\n",
            " [13847.68 11353.23]\n",
            " [10427.82  8798.59]\n",
            " [10427.82 10381.48]\n",
            " [ 3286.02  2103.08]\n",
            " [34429.05 34489.35]\n",
            " [10427.82  9304.7 ]\n",
            " [13847.68 11658.12]\n",
            " [ 6599.95  3070.81]\n",
            " [18529.03 19539.24]\n",
            " [13847.68 12629.9 ]\n",
            " [13847.68 11538.42]\n",
            " [ 6599.95  6338.08]\n",
            " [ 6599.95  7050.64]\n",
            " [ 3286.02  1137.47]\n",
            " [10427.82  8968.33]\n",
            " [ 6599.95 21984.47]\n",
            " [ 6599.95  6414.18]\n",
            " [13847.68 28287.9 ]\n",
            " [13847.68 13462.52]\n",
            " [13847.68  9722.77]\n",
            " [34429.05 34489.35]\n",
            " [10427.82  8026.67]\n",
            " [10427.82  8444.47]\n",
            " [ 3286.02  2203.47]\n",
            " [ 6599.95  6664.69]\n",
            " [ 6599.95  8606.22]\n",
            " [10427.82  8283.68]\n",
            " [ 6599.95  5375.04]\n",
            " [ 6599.95  3645.09]\n",
            " [13847.68 11674.13]\n",
            " [ 6599.95 11737.85]\n",
            " [25085.79 24873.38]\n",
            " [34429.05 33750.29]\n",
            " [25085.79 24180.93]\n",
            " [13847.68  9863.47]\n",
            " [34429.05 34489.35]\n",
            " [18529.03 17942.11]\n",
            " [13847.68 11856.41]\n",
            " [34429.05 34489.35]\n",
            " [ 6599.95  4349.46]\n",
            " [13847.68 11743.93]\n",
            " [10427.82 19749.38]\n",
            " [13847.68 12347.17]\n",
            " [ 6599.95  4931.65]\n",
            " [13847.68 30260.  ]\n",
            " [ 3286.02 27724.29]\n",
            " [34429.05 34489.35]\n",
            " [10427.82  9644.25]\n",
            " [13847.68 14394.4 ]\n",
            " [13847.68 12557.61]\n",
            " [13847.68 11881.36]\n",
            " [ 3286.02  2352.97]\n",
            " [10427.82  9101.8 ]\n",
            " [18529.03 17178.68]\n",
            " [ 6599.95  3994.18]\n",
            " [34429.05 34489.35]\n",
            " [13847.68 12644.59]\n",
            " [ 5371.66 22395.74]\n",
            " [ 3286.02  1149.4 ]\n",
            " [ 6599.95  3366.67]\n",
            " [13847.68 13143.34]\n",
            " [18529.03 18328.24]\n",
            " [ 3286.02  2690.11]\n",
            " [13847.68 12741.17]\n",
            " [10427.82  8765.25]\n",
            " [10427.82 10264.44]\n",
            " [13847.68 22192.44]\n",
            " [ 3286.02  2709.24]\n",
            " [18529.03 14571.89]\n",
            " [34429.05 34489.35]\n",
            " [34429.05 34489.35]\n",
            " [ 3286.02  1743.21]\n",
            " [13847.68 12479.71]\n",
            " [13847.68 13352.1 ]\n",
            " [34429.05 34489.35]\n",
            " [ 3286.02  2789.06]\n",
            " [ 6599.95  2867.12]\n",
            " [13847.68 11070.53]\n",
            " [10427.82 10493.95]\n",
            " [ 3286.02  3167.46]\n",
            " [13847.68 12269.69]\n",
            " [13847.68 10942.13]\n",
            " [ 3286.02  1977.82]\n",
            " [34429.05 34489.35]\n",
            " [34429.05 34489.35]\n",
            " [ 6599.95  7045.5 ]\n",
            " [34429.05 34489.35]\n",
            " [10427.82 10370.91]\n",
            " [ 6599.95  7749.16]\n",
            " [18529.03 20234.85]\n",
            " [25085.79 24106.91]\n",
            " [13847.68 13919.82]\n",
            " [10427.82  8871.15]\n",
            " [ 3286.02  1628.47]\n",
            " [13847.68  9487.64]\n",
            " [10427.82  9861.02]\n",
            " [13847.68 12265.51]\n",
            " [13847.68 12235.84]\n",
            " [ 6599.95  6402.29]\n",
            " [13847.68 11356.66]\n",
            " [18529.03 15817.99]\n",
            " [18529.03 18259.22]\n",
            " [34429.05 34489.35]\n",
            " [25085.79 27037.91]\n",
            " [18529.03 18033.97]\n",
            " [ 3286.02  1737.38]\n",
            " [10427.82  7441.05]\n",
            " [ 3286.02  2219.45]\n",
            " [13847.68 11286.54]\n",
            " [ 6599.95  4415.16]\n",
            " [ 5371.66  3981.98]\n",
            " [ 3286.02  1632.04]\n",
            " [13847.68 15555.19]\n",
            " [ 3286.02 12609.89]\n",
            " [ 3286.02  1253.94]\n",
            " [ 6599.95  6666.24]\n",
            " [13847.68 14254.61]\n",
            " [ 6599.95 19496.72]\n",
            " [ 3286.02  2261.57]\n",
            " [10427.82  8932.08]\n",
            " [10427.82 10736.87]\n",
            " [ 6599.95  5976.83]\n",
            " [10427.82  7147.1 ]\n",
            " [34429.05 34489.35]\n",
            " [10427.82  9563.03]\n",
            " [13847.68 13047.33]\n",
            " [18529.03 19362.  ]\n",
            " [34429.05 34489.35]\n",
            " [10427.82  7740.34]\n",
            " [34429.05 34489.35]\n",
            " [ 3286.02  1832.09]\n",
            " [ 6599.95  7144.86]\n",
            " [34429.05 34489.35]\n",
            " [10427.82 24603.05]\n",
            " [ 3286.02  1731.68]\n",
            " [ 3286.02  1632.56]\n",
            " [ 3286.02  1631.82]\n",
            " [13847.68  9991.04]\n",
            " [10427.82  7935.29]\n",
            " [13847.68 14043.48]\n",
            " [ 6599.95  5934.38]\n",
            " [18529.03 18972.49]\n",
            " [13847.68 14313.85]\n",
            " [13847.68 13607.37]\n",
            " [13847.68 10594.5 ]\n",
            " [ 3286.02  1719.44]\n",
            " [ 6599.95  7954.52]\n",
            " [ 3286.02  1727.54]\n",
            " [ 6599.95  6686.43]\n",
            " [10427.82  7152.67]\n",
            " [ 5773.12  3877.3 ]\n",
            " [13847.68 33471.97]\n",
            " [13847.68 11879.1 ]\n",
            " [10427.82  7804.16]\n",
            " [ 6599.95  5969.72]\n",
            " [10427.82  9964.06]\n",
            " [10427.82  9957.72]\n",
            " [10427.82  9447.38]\n",
            " [ 3286.02  1826.84]\n",
            " [ 6599.95  3704.35]\n",
            " [34429.05 34489.35]\n",
            " [13847.68 11946.63]\n",
            " [ 3286.02  2904.09]\n",
            " [ 6599.95  6128.8 ]\n",
            " [ 3286.02  1534.3 ]\n",
            " [34429.05 34489.35]\n",
            " [13847.68 10436.1 ]\n",
            " [13847.68 11073.18]\n",
            " [ 6599.95  5469.01]\n",
            " [ 6599.95  5152.13]\n",
            " [ 6599.95  3556.92]\n",
            " [25085.79 22412.65]\n",
            " [25085.79 25678.78]\n",
            " [ 6599.95  3353.47]\n",
            " [ 6599.95  6555.07]\n",
            " [ 3286.02  2416.95]\n",
            " [13847.68 14590.63]\n",
            " [ 6599.95  3732.63]\n",
            " [ 6599.95  5846.92]\n",
            " [13847.68 12731.  ]\n",
            " [13847.68 13616.36]\n",
            " [10427.82  8988.16]\n",
            " [ 6599.95  7650.77]\n",
            " [ 3286.02  3594.17]\n",
            " [18529.03 18246.5 ]\n",
            " [ 3286.02  2155.68]\n",
            " [10427.82  8569.86]\n",
            " [10427.82  7526.71]\n",
            " [ 6599.95  9222.4 ]\n",
            " [13847.68 14119.62]\n",
            " [34429.05 34489.35]\n",
            " [ 6599.95  3260.2 ]\n",
            " [ 3286.02  2709.11]\n",
            " [ 6599.95  6933.24]\n",
            " [10427.82  9264.8 ]\n",
            " [ 6599.95  7243.81]\n",
            " [ 3286.02  2134.9 ]\n",
            " [10427.82 11520.1 ]\n",
            " [10427.82  8233.1 ]\n",
            " [ 6599.95  6289.75]\n",
            " [ 6599.95  7371.77]\n",
            " [13847.68 12094.48]\n",
            " [ 6599.95 23563.02]\n",
            " [ 6599.95  6457.84]\n",
            " [ 3286.02  1615.77]\n",
            " [ 6599.95  6600.21]\n",
            " [ 6599.95  7046.72]\n",
            " [ 3286.02  1984.45]\n",
            " [13847.68 11455.28]\n",
            " [ 6599.95  4137.52]\n",
            " [25085.79 23244.79]\n",
            " [ 5371.66 17128.43]\n",
            " [ 5371.66  3987.93]\n",
            " [ 6599.95  4670.64]\n",
            " [34429.05 34489.35]\n",
            " [13847.68 10796.35]\n",
            " [34429.05 34489.35]\n",
            " [ 3286.02  1136.4 ]\n",
            " [34429.05 34489.35]\n",
            " [ 3286.02  2459.72]\n",
            " [25085.79 21195.82]\n",
            " [13847.68 12268.63]\n",
            " [ 6599.95  4827.9 ]\n",
            " [ 3286.02  1635.73]\n",
            " [ 3286.02  1969.61]\n",
            " [ 6599.95  4357.04]\n",
            " [ 3286.02 10795.94]\n",
            " [18529.03 17081.08]\n",
            " [13847.68 13887.97]\n",
            " [16215.3   3579.83]\n",
            " [13847.68 14001.29]\n",
            " [34429.05 34489.35]\n",
            " [ 6599.95  6753.04]\n",
            " [13847.68 12096.65]\n",
            " [13847.68 10214.64]\n",
            " [18529.03 17361.77]\n",
            " [ 3286.02  1639.56]\n",
            " [10427.82  8342.91]\n",
            " [ 6599.95  4074.45]\n",
            " [10427.82  8083.92]\n",
            " [ 3286.02  2026.97]\n",
            " [13847.68 31620.  ]\n",
            " [ 3286.02  1981.58]\n",
            " [13847.68 20781.49]\n",
            " [25085.79 24869.84]\n",
            " [ 6599.95 18806.15]\n",
            " [10427.82  8551.35]\n",
            " [ 3286.02 18218.16]\n",
            " [13847.68 14210.54]\n",
            " [13847.68 10959.69]\n",
            " [ 6599.95  4441.21]\n",
            " [13847.68 12142.58]\n",
            " [10427.82 10560.49]\n",
            " [ 3286.02  2897.32]\n",
            " [ 3286.02  2755.02]\n",
            " [34429.05 34489.35]\n",
            " [18529.03 22331.57]\n",
            " [ 3286.02  1625.43]\n",
            " [34429.05 34489.35]\n",
            " [10427.82  8219.2 ]\n",
            " [ 6599.95  6940.91]\n",
            " [10427.82  8240.59]\n",
            " [34429.05 34489.35]\n",
            " [34429.05 34489.35]\n",
            " [34429.05 34489.35]\n",
            " [ 3286.02  2136.88]\n",
            " [ 6599.95  5227.99]]\n"
          ]
        }
      ]
    }
  ],
  "metadata": {
    "kernelspec": {
      "display_name": "Python 3.10.5 64-bit",
      "language": "python",
      "name": "python3"
    },
    "language_info": {
      "codemirror_mode": {
        "name": "ipython",
        "version": 3
      },
      "file_extension": ".py",
      "mimetype": "text/x-python",
      "name": "python",
      "nbconvert_exporter": "python",
      "pygments_lexer": "ipython3",
      "version": "3.10.5"
    },
    "orig_nbformat": 4,
    "vscode": {
      "interpreter": {
        "hash": "95bf662a0931fbd27bd34f8a2e8af46f3fcd2c2c74774049b8f3cb839e48506f"
      }
    },
    "colab": {
      "name": "Insurance_Forecast.ipynb",
      "provenance": [],
      "collapsed_sections": [
        "NWktPCWSE4nX",
        "sx4zuOcuE4nY",
        "rKYiicJKE4na",
        "6dIGRMYqE4nb",
        "DYJMmqzDE4nb",
        "K2IAaleKE4nc",
        "sy4WQr0NE4ne",
        "RDIBh3dDE4nf",
        "0LE-DCZvE4ng",
        "kcJ-mdPZE4ng",
        "-atkX1bSE4ng",
        "8orkNE60E4ni"
      ],
      "include_colab_link": true
    }
  },
  "nbformat": 4,
  "nbformat_minor": 0
}